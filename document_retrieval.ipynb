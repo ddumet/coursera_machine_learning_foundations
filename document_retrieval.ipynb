{
 "cells": [
  {
   "cell_type": "markdown",
   "metadata": {},
   "source": [
    "# Document retrieval from wikipedia data\n",
    "The dataset used in this notebook can be found here [people_wiki.csv](https://d396qusza40orc.cloudfront.net/phoenixassets/people_wiki.csv)"
   ]
  },
  {
   "cell_type": "code",
   "execution_count": 67,
   "metadata": {
    "collapsed": true
   },
   "outputs": [],
   "source": [
    "import pandas as pd\n",
    "import numpy as np"
   ]
  },
  {
   "cell_type": "code",
   "execution_count": 70,
   "metadata": {
    "collapsed": true
   },
   "outputs": [],
   "source": [
    "import json\n",
    "from collections import OrderedDict"
   ]
  },
  {
   "cell_type": "code",
   "execution_count": null,
   "metadata": {
    "collapsed": true
   },
   "outputs": [],
   "source": [
    "#from nltk.corpus import stopwords"
   ]
  },
  {
   "cell_type": "code",
   "execution_count": 110,
   "metadata": {
    "collapsed": true
   },
   "outputs": [],
   "source": [
    "from sklearn.feature_extraction.text import CountVectorizer\n",
    "from sklearn.feature_extraction.text import TfidfVectorizer\n",
    "from sklearn.metrics.pairwise import distance_metrics"
   ]
  },
  {
   "cell_type": "code",
   "execution_count": 4,
   "metadata": {
    "collapsed": true
   },
   "outputs": [],
   "source": [
    "people = pd.read_csv(\"./data/people_wiki.csv\")"
   ]
  },
  {
   "cell_type": "code",
   "execution_count": 5,
   "metadata": {
    "collapsed": false
   },
   "outputs": [
    {
     "data": {
      "text/html": [
       "<div>\n",
       "<table border=\"1\" class=\"dataframe\">\n",
       "  <thead>\n",
       "    <tr style=\"text-align: right;\">\n",
       "      <th></th>\n",
       "      <th>URI</th>\n",
       "      <th>name</th>\n",
       "      <th>text</th>\n",
       "    </tr>\n",
       "  </thead>\n",
       "  <tbody>\n",
       "    <tr>\n",
       "      <th>0</th>\n",
       "      <td>&lt;http://dbpedia.org/resource/Digby_Morrell&gt;</td>\n",
       "      <td>Digby Morrell</td>\n",
       "      <td>digby morrell born 10 october 1979 is a former...</td>\n",
       "    </tr>\n",
       "    <tr>\n",
       "      <th>1</th>\n",
       "      <td>&lt;http://dbpedia.org/resource/Alfred_J._Lewy&gt;</td>\n",
       "      <td>Alfred J. Lewy</td>\n",
       "      <td>alfred j lewy aka sandy lewy graduated from un...</td>\n",
       "    </tr>\n",
       "    <tr>\n",
       "      <th>2</th>\n",
       "      <td>&lt;http://dbpedia.org/resource/Harpdog_Brown&gt;</td>\n",
       "      <td>Harpdog Brown</td>\n",
       "      <td>harpdog brown is a singer and harmonica player...</td>\n",
       "    </tr>\n",
       "    <tr>\n",
       "      <th>3</th>\n",
       "      <td>&lt;http://dbpedia.org/resource/Franz_Rottensteiner&gt;</td>\n",
       "      <td>Franz Rottensteiner</td>\n",
       "      <td>franz rottensteiner born in waidmannsfeld lowe...</td>\n",
       "    </tr>\n",
       "    <tr>\n",
       "      <th>4</th>\n",
       "      <td>&lt;http://dbpedia.org/resource/G-Enka&gt;</td>\n",
       "      <td>G-Enka</td>\n",
       "      <td>henry krvits born 30 december 1974 in tallinn ...</td>\n",
       "    </tr>\n",
       "  </tbody>\n",
       "</table>\n",
       "</div>"
      ],
      "text/plain": [
       "                                                 URI                 name  \\\n",
       "0        <http://dbpedia.org/resource/Digby_Morrell>        Digby Morrell   \n",
       "1       <http://dbpedia.org/resource/Alfred_J._Lewy>       Alfred J. Lewy   \n",
       "2        <http://dbpedia.org/resource/Harpdog_Brown>        Harpdog Brown   \n",
       "3  <http://dbpedia.org/resource/Franz_Rottensteiner>  Franz Rottensteiner   \n",
       "4               <http://dbpedia.org/resource/G-Enka>               G-Enka   \n",
       "\n",
       "                                                text  \n",
       "0  digby morrell born 10 october 1979 is a former...  \n",
       "1  alfred j lewy aka sandy lewy graduated from un...  \n",
       "2  harpdog brown is a singer and harmonica player...  \n",
       "3  franz rottensteiner born in waidmannsfeld lowe...  \n",
       "4  henry krvits born 30 december 1974 in tallinn ...  "
      ]
     },
     "execution_count": 5,
     "metadata": {},
     "output_type": "execute_result"
    }
   ],
   "source": [
    "people.head()"
   ]
  },
  {
   "cell_type": "code",
   "execution_count": 6,
   "metadata": {
    "collapsed": false
   },
   "outputs": [
    {
     "data": {
      "text/plain": [
       "(59071, 3)"
      ]
     },
     "execution_count": 6,
     "metadata": {},
     "output_type": "execute_result"
    }
   ],
   "source": [
    "people.shape"
   ]
  },
  {
   "cell_type": "markdown",
   "metadata": {},
   "source": [
    "## Explore Data Set"
   ]
  },
  {
   "cell_type": "code",
   "execution_count": 7,
   "metadata": {
    "collapsed": false
   },
   "outputs": [],
   "source": [
    "obama = people.loc[people.loc[:,\"name\"] == \"Barack Obama\"]"
   ]
  },
  {
   "cell_type": "code",
   "execution_count": 8,
   "metadata": {
    "collapsed": false
   },
   "outputs": [
    {
     "data": {
      "text/html": [
       "<div>\n",
       "<table border=\"1\" class=\"dataframe\">\n",
       "  <thead>\n",
       "    <tr style=\"text-align: right;\">\n",
       "      <th></th>\n",
       "      <th>URI</th>\n",
       "      <th>name</th>\n",
       "      <th>text</th>\n",
       "    </tr>\n",
       "  </thead>\n",
       "  <tbody>\n",
       "    <tr>\n",
       "      <th>35817</th>\n",
       "      <td>&lt;http://dbpedia.org/resource/Barack_Obama&gt;</td>\n",
       "      <td>Barack Obama</td>\n",
       "      <td>barack hussein obama ii brk husen bm born augu...</td>\n",
       "    </tr>\n",
       "  </tbody>\n",
       "</table>\n",
       "</div>"
      ],
      "text/plain": [
       "                                              URI          name  \\\n",
       "35817  <http://dbpedia.org/resource/Barack_Obama>  Barack Obama   \n",
       "\n",
       "                                                    text  \n",
       "35817  barack hussein obama ii brk husen bm born augu...  "
      ]
     },
     "execution_count": 8,
     "metadata": {},
     "output_type": "execute_result"
    }
   ],
   "source": [
    "obama"
   ]
  },
  {
   "cell_type": "code",
   "execution_count": 9,
   "metadata": {
    "collapsed": false
   },
   "outputs": [
    {
     "name": "stdout",
     "output_type": "stream",
     "text": [
      "barack hussein obama ii brk husen bm born august 4 1961 is the 44th and current president of the united states and the first african american to hold the office born in honolulu hawaii obama is a graduate of columbia university and harvard law school where he served as president of the harvard law review he was a community organizer in chicago before earning his law degree he worked as a civil rights attorney and taught constitutional law at the university of chicago law school from 1992 to 2004 he served three terms representing the 13th district in the illinois senate from 1997 to 2004 running unsuccessfully for the united states house of representatives in 2000in 2004 obama received national attention during his campaign to represent illinois in the united states senate with his victory in the march democratic party primary his keynote address at the democratic national convention in july and his election to the senate in november he began his presidential campaign in 2007 and after a close primary campaign against hillary rodham clinton in 2008 he won sufficient delegates in the democratic party primaries to receive the presidential nomination he then defeated republican nominee john mccain in the general election and was inaugurated as president on january 20 2009 nine months after his election obama was named the 2009 nobel peace prize laureateduring his first two years in office obama signed into law economic stimulus legislation in response to the great recession in the form of the american recovery and reinvestment act of 2009 and the tax relief unemployment insurance reauthorization and job creation act of 2010 other major domestic initiatives in his first term included the patient protection and affordable care act often referred to as obamacare the doddfrank wall street reform and consumer protection act and the dont ask dont tell repeal act of 2010 in foreign policy obama ended us military involvement in the iraq war increased us troop levels in afghanistan signed the new start arms control treaty with russia ordered us military involvement in libya and ordered the military operation that resulted in the death of osama bin laden in january 2011 the republicans regained control of the house of representatives as the democratic party lost a total of 63 seats and after a lengthy debate over federal spending and whether or not to raise the nations debt limit obama signed the budget control act of 2011 and the american taxpayer relief act of 2012obama was reelected president in november 2012 defeating republican nominee mitt romney and was sworn in for a second term on january 20 2013 during his second term obama has promoted domestic policies related to gun control in response to the sandy hook elementary school shooting and has called for full equality for lgbt americans while his administration has filed briefs which urged the supreme court to strike down the defense of marriage act of 1996 and californias proposition 8 as unconstitutional in foreign policy obama ordered us military involvement in iraq in response to gains made by the islamic state in iraq after the 2011 withdrawal from iraq continued the process of ending us combat operations in afghanistan and has sought to normalize us relations with cuba\n"
     ]
    }
   ],
   "source": [
    "print(obama.loc[35817,\"text\"])"
   ]
  },
  {
   "cell_type": "markdown",
   "metadata": {
    "collapsed": true
   },
   "source": [
    "## Words count for Obama article\n",
    "**No need to clean the data**: From the data exploration steps, it looks like data (text of the articles) are already clean, so there's no need to perfom a cleaning process. The text could be used \"as is\" to build bag of words.\n",
    "\n",
    "**We are not using stop_words**: It is not used in the course notebook, probably on purpose to demonstrate the benefit of TF-IDF technique.\n",
    "\n",
    "We limit the vocabulary to 5000 words for now, we'll see if it is enough to match the notebook of the course."
   ]
  },
  {
   "cell_type": "code",
   "execution_count": 10,
   "metadata": {
    "collapsed": false
   },
   "outputs": [],
   "source": [
    "#stopswrd = set(stopwords.words(\"english\"))\n",
    "vectorizer = CountVectorizer(analyzer = \"word\",tokenizer = None,\n",
    "                             preprocessor = None,\n",
    "                             stop_words = None,\n",
    "                             max_features = 5000)"
   ]
  },
  {
   "cell_type": "code",
   "execution_count": 11,
   "metadata": {
    "collapsed": false
   },
   "outputs": [],
   "source": [
    "obama_words_count = vectorizer.fit_transform(obama[\"text\"]).toarray()"
   ]
  },
  {
   "cell_type": "code",
   "execution_count": 12,
   "metadata": {
    "collapsed": false
   },
   "outputs": [
    {
     "name": "stderr",
     "output_type": "stream",
     "text": [
      "C:\\Users\\Didier\\Anaconda3\\lib\\site-packages\\pandas\\core\\indexing.py:288: SettingWithCopyWarning: \n",
      "A value is trying to be set on a copy of a slice from a DataFrame.\n",
      "Try using .loc[row_indexer,col_indexer] = value instead\n",
      "\n",
      "See the caveats in the documentation: http://pandas.pydata.org/pandas-docs/stable/indexing.html#indexing-view-versus-copy\n",
      "  self.obj[key] = _infer_fill_value(value)\n",
      "C:\\Users\\Didier\\Anaconda3\\lib\\site-packages\\pandas\\core\\indexing.py:465: SettingWithCopyWarning: \n",
      "A value is trying to be set on a copy of a slice from a DataFrame.\n",
      "Try using .loc[row_indexer,col_indexer] = value instead\n",
      "\n",
      "See the caveats in the documentation: http://pandas.pydata.org/pandas-docs/stable/indexing.html#indexing-view-versus-copy\n",
      "  self.obj[item] = s\n"
     ]
    }
   ],
   "source": [
    "obama.loc[35817,\"words_count\"] = str(dict(zip(vectorizer.get_feature_names(),obama_words_count[0])))"
   ]
  },
  {
   "cell_type": "code",
   "execution_count": 13,
   "metadata": {
    "collapsed": false
   },
   "outputs": [
    {
     "data": {
      "text/html": [
       "<div>\n",
       "<table border=\"1\" class=\"dataframe\">\n",
       "  <thead>\n",
       "    <tr style=\"text-align: right;\">\n",
       "      <th></th>\n",
       "      <th>URI</th>\n",
       "      <th>name</th>\n",
       "      <th>text</th>\n",
       "      <th>words_count</th>\n",
       "    </tr>\n",
       "  </thead>\n",
       "  <tbody>\n",
       "    <tr>\n",
       "      <th>35817</th>\n",
       "      <td>&lt;http://dbpedia.org/resource/Barack_Obama&gt;</td>\n",
       "      <td>Barack Obama</td>\n",
       "      <td>barack hussein obama ii brk husen bm born augu...</td>\n",
       "      <td>{'unconstitutional': 1, 'prize': 1, 'won': 1, ...</td>\n",
       "    </tr>\n",
       "  </tbody>\n",
       "</table>\n",
       "</div>"
      ],
      "text/plain": [
       "                                              URI          name  \\\n",
       "35817  <http://dbpedia.org/resource/Barack_Obama>  Barack Obama   \n",
       "\n",
       "                                                    text  \\\n",
       "35817  barack hussein obama ii brk husen bm born augu...   \n",
       "\n",
       "                                             words_count  \n",
       "35817  {'unconstitutional': 1, 'prize': 1, 'won': 1, ...  "
      ]
     },
     "execution_count": 13,
     "metadata": {},
     "output_type": "execute_result"
    }
   ],
   "source": [
    "obama"
   ]
  },
  {
   "cell_type": "code",
   "execution_count": 14,
   "metadata": {
    "collapsed": false
   },
   "outputs": [
    {
     "data": {
      "text/plain": [
       "\"{'unconstitutional': 1, 'prize': 1, 'won': 1, '2000in': 1, 'californias': 1, 'general': 1, 'school': 3, 'care': 1, 'illinois': 2, 'wall': 1, 'death': 1, 'withdrawal': 1, 'operation': 1, 'major': 1, 'defense': 1, 'from': 3, '2013': 1, 'resulted': 1, 'control': 4, 'address': 1, 'attorney': 1, 'convention': 1, 'bm': 1, 'sought': 1, 'into': 1, 'dont': 2, 'romney': 1, 'which': 1, 'legislation': 1, 'republican': 2, 'americans': 1, 'seats': 1, 'reauthorization': 1, 'osama': 1, 'worked': 1, 'that': 1, 'obama': 9, 'ordered': 3, 'consumer': 1, '20': 2, 'foreign': 2, 'first': 3, 'act': 8, 'on': 2, 'and': 21, 'during': 2, 'troop': 1, 'husen': 1, 'earning': 1, 'street': 1, 'review': 1, 'began': 1, 'arms': 1, 'spending': 1, 'afghanistan': 2, 'sworn': 1, 'military': 4, 'is': 2, 'representing': 1, '1961': 1, 'then': 1, 'for': 4, '2012': 1, 'over': 1, 'taxpayer': 1, 'reelected': 1, 'of': 18, 'march': 1, 'january': 3, 'great': 1, '63': 1, 'running': 1, 'signed': 3, 'he': 7, 'nations': 1, 'budget': 1, 'creation': 1, 'nine': 1, 'american': 3, 'iraq': 4, 'terms': 1, '1992': 1, 'ended': 1, 'months': 1, 'continued': 1, 'war': 1, 'reform': 1, 'filed': 1, 'form': 1, 'obamacare': 1, 'state': 1, 'other': 1, 'us': 6, 'lost': 1, 'start': 1, 'doddfrank': 1, 'received': 1, 'house': 2, 'protection': 2, 'sandy': 1, 'november': 2, 'initiatives': 1, 'in': 30, 'attention': 1, '2011': 3, 'federal': 1, '2004': 3, 'included': 1, '13th': 1, 'civil': 1, 'islamic': 1, 'democratic': 4, 'gains': 1, 'named': 1, 'has': 4, 'tax': 1, 'hook': 1, 'columbia': 1, 'rights': 1, 'district': 1, 'keynote': 1, 'august': 1, 'shooting': 1, 'mitt': 1, 'relations': 1, 'strike': 1, 'recovery': 1, 'job': 1, 'community': 1, 'while': 1, 'debate': 1, 'affordable': 1, 'senate': 3, 'nobel': 1, 'second': 2, 'nominee': 2, 'supreme': 1, 'his': 11, 'relief': 2, 'served': 2, 'hold': 1, 'defeating': 1, 'honolulu': 1, 'july': 1, 'operations': 1, 'nomination': 1, 'libya': 1, 'ending': 1, 'stimulus': 1, 'receive': 1, 'organizer': 1, 'regained': 1, 'peace': 1, 'at': 2, 'promoted': 1, 'cuba': 1, 'two': 1, 'bin': 1, 'ask': 1, 'after': 4, 'victory': 1, '2009': 3, 'represent': 1, 'laureateduring': 1, 'policies': 1, 'was': 5, 'often': 1, 'graduate': 1, 'debt': 1, 'repeal': 1, 'campaign': 3, 'primary': 2, 'representatives': 2, 'raise': 1, 'gun': 1, 'african': 1, 'united': 3, 'related': 1, 'hawaii': 1, 'proposition': 1, 'to': 14, 'new': 1, 'recession': 1, 'rodham': 1, 'equality': 1, 'levels': 1, 'or': 1, 'taught': 1, 'tell': 1, 'elementary': 1, '2012obama': 1, 'barack': 1, 'patient': 1, 'party': 3, 'involvement': 3, 'law': 6, 'normalize': 1, 'mccain': 1, 'court': 1, 'presidential': 2, 'made': 1, 'hillary': 1, 'russia': 1, 'harvard': 2, 'brk': 1, 'lgbt': 1, 'constitutional': 1, 'full': 1, 'economic': 1, 'president': 4, 'chicago': 2, 'primaries': 1, 'before': 1, 'combat': 1, 'total': 1, 'john': 1, 'current': 1, 'insurance': 1, '44th': 1, '2008': 1, 'states': 3, 'treaty': 1, 'sufficient': 1, 'term': 3, 'close': 1, 'years': 1, 'as': 6, 'three': 1, 'born': 2, 'where': 1, 'office': 2, 'laden': 1, '1997': 1, 'ii': 1, 'republicans': 1, 'national': 2, '2007': 1, '1996': 1, 'urged': 1, 'unemployment': 1, 'with': 3, 'degree': 1, 'referred': 1, 'called': 1, 'process': 1, 'defeated': 1, 'limit': 1, 'against': 1, 'increased': 1, 'not': 1, 'briefs': 1, 'down': 1, 'clinton': 1, 'policy': 2, 'reinvestment': 1, 'marriage': 1, 'domestic': 2, 'inaugurated': 1, 'election': 3, 'administration': 1, 'delegates': 1, 'the': 40, 'whether': 1, 'unsuccessfully': 1, 'university': 2, 'response': 3, 'by': 1, '2010': 2, 'lengthy': 1, 'hussein': 1}\""
      ]
     },
     "execution_count": 14,
     "metadata": {},
     "output_type": "execute_result"
    }
   ],
   "source": [
    "obama.loc[35817,\"words_count\"]"
   ]
  },
  {
   "cell_type": "markdown",
   "metadata": {},
   "source": [
    "### Sorting words count for Obama"
   ]
  },
  {
   "cell_type": "code",
   "execution_count": 15,
   "metadata": {
    "collapsed": true
   },
   "outputs": [],
   "source": [
    "obama_words_count_table = pd.DataFrame({\"count\":obama_words_count[0],\"words\":vectorizer.get_feature_names()})"
   ]
  },
  {
   "cell_type": "code",
   "execution_count": 16,
   "metadata": {
    "collapsed": false
   },
   "outputs": [
    {
     "data": {
      "text/html": [
       "<div>\n",
       "<table border=\"1\" class=\"dataframe\">\n",
       "  <thead>\n",
       "    <tr style=\"text-align: right;\">\n",
       "      <th></th>\n",
       "      <th>count</th>\n",
       "      <th>words</th>\n",
       "    </tr>\n",
       "  </thead>\n",
       "  <tbody>\n",
       "    <tr>\n",
       "      <th>242</th>\n",
       "      <td>40</td>\n",
       "      <td>the</td>\n",
       "    </tr>\n",
       "    <tr>\n",
       "      <th>115</th>\n",
       "      <td>30</td>\n",
       "      <td>in</td>\n",
       "    </tr>\n",
       "    <tr>\n",
       "      <th>28</th>\n",
       "      <td>21</td>\n",
       "      <td>and</td>\n",
       "    </tr>\n",
       "    <tr>\n",
       "      <th>162</th>\n",
       "      <td>18</td>\n",
       "      <td>of</td>\n",
       "    </tr>\n",
       "    <tr>\n",
       "      <th>245</th>\n",
       "      <td>14</td>\n",
       "      <td>to</td>\n",
       "    </tr>\n",
       "    <tr>\n",
       "      <th>106</th>\n",
       "      <td>11</td>\n",
       "      <td>his</td>\n",
       "    </tr>\n",
       "    <tr>\n",
       "      <th>160</th>\n",
       "      <td>9</td>\n",
       "      <td>obama</td>\n",
       "    </tr>\n",
       "    <tr>\n",
       "      <th>18</th>\n",
       "      <td>8</td>\n",
       "      <td>act</td>\n",
       "    </tr>\n",
       "    <tr>\n",
       "      <th>104</th>\n",
       "      <td>7</td>\n",
       "      <td>he</td>\n",
       "    </tr>\n",
       "    <tr>\n",
       "      <th>30</th>\n",
       "      <td>6</td>\n",
       "      <td>as</td>\n",
       "    </tr>\n",
       "  </tbody>\n",
       "</table>\n",
       "</div>"
      ],
      "text/plain": [
       "     count  words\n",
       "242     40    the\n",
       "115     30     in\n",
       "28      21    and\n",
       "162     18     of\n",
       "245     14     to\n",
       "106     11    his\n",
       "160      9  obama\n",
       "18       8    act\n",
       "104      7     he\n",
       "30       6     as"
      ]
     },
     "execution_count": 16,
     "metadata": {},
     "output_type": "execute_result"
    }
   ],
   "source": [
    "obama_words_count_table.sort_values(\"count\",ascending=False).head(10)"
   ]
  },
  {
   "cell_type": "markdown",
   "metadata": {},
   "source": [
    "## Compute tf-idf for people_wiki corpus"
   ]
  },
  {
   "cell_type": "code",
   "execution_count": 17,
   "metadata": {
    "collapsed": true
   },
   "outputs": [],
   "source": [
    "vectorizer_tfidf = TfidfVectorizer(analyzer = \"word\",tokenizer = None,\n",
    "                             preprocessor = None,\n",
    "                             stop_words = None,\n",
    "                             max_features = 5000)"
   ]
  },
  {
   "cell_type": "code",
   "execution_count": 18,
   "metadata": {
    "collapsed": false
   },
   "outputs": [
    {
     "name": "stdout",
     "output_type": "stream",
     "text": [
      "Wall time: 22 s\n"
     ]
    }
   ],
   "source": [
    "%%time\n",
    "tfidf = vectorizer_tfidf.fit_transform(people.loc[:,\"text\"])"
   ]
  },
  {
   "cell_type": "markdown",
   "metadata": {},
   "source": [
    "### Create the \"tfidf\" column"
   ]
  },
  {
   "cell_type": "code",
   "execution_count": 20,
   "metadata": {
    "collapsed": false
   },
   "outputs": [],
   "source": [
    "tfidf_a = tfidf.toarray()"
   ]
  },
  {
   "cell_type": "markdown",
   "metadata": {},
   "source": [
    "**to_dict** is transforming one row of the tdidf_a array into a dictionary. Only items with value > 0 are kept when building the dictionary.\n",
    "\n",
    "The dictionary is encoded in json so that it can be put into the dataframe."
   ]
  },
  {
   "cell_type": "code",
   "execution_count": 102,
   "metadata": {
    "collapsed": false
   },
   "outputs": [],
   "source": [
    "def to_dict(tdidf_row):\n",
    "    dic = {k:v for k,v in zip(vectorizer_tfidf.get_feature_names(),tdidf_row) if v>0}\n",
    "    return(json.dumps(dic))"
   ]
  },
  {
   "cell_type": "code",
   "execution_count": 103,
   "metadata": {
    "collapsed": false
   },
   "outputs": [
    {
     "name": "stdout",
     "output_type": "stream",
     "text": [
      "Wall time: 14min 56s\n"
     ]
    }
   ],
   "source": [
    "%%time\n",
    "tfidf_df = pd.DataFrame(tfidf_a,people.index).apply(to_dict, axis=1)"
   ]
  },
  {
   "cell_type": "code",
   "execution_count": 105,
   "metadata": {
    "collapsed": false
   },
   "outputs": [],
   "source": [
    "people.insert(len(people.columns),\"tfidf\",tfidf_df)"
   ]
  },
  {
   "cell_type": "code",
   "execution_count": 106,
   "metadata": {
    "collapsed": false
   },
   "outputs": [
    {
     "data": {
      "text/html": [
       "<div>\n",
       "<table border=\"1\" class=\"dataframe\">\n",
       "  <thead>\n",
       "    <tr style=\"text-align: right;\">\n",
       "      <th></th>\n",
       "      <th>URI</th>\n",
       "      <th>name</th>\n",
       "      <th>text</th>\n",
       "      <th>tfidf</th>\n",
       "      <th>tfidf2</th>\n",
       "    </tr>\n",
       "  </thead>\n",
       "  <tbody>\n",
       "    <tr>\n",
       "      <th>0</th>\n",
       "      <td>&lt;http://dbpedia.org/resource/Digby_Morrell&gt;</td>\n",
       "      <td>Digby Morrell</td>\n",
       "      <td>digby morrell born 10 october 1979 is a former...</td>\n",
       "      <td>{'clubs': 0.062723630482851067, '2006': 0.0355...</td>\n",
       "      <td>{\"clubs\": 0.06272363048285107, \"2006\": 0.03556...</td>\n",
       "    </tr>\n",
       "    <tr>\n",
       "      <th>1</th>\n",
       "      <td>&lt;http://dbpedia.org/resource/Alfred_J._Lewy&gt;</td>\n",
       "      <td>Alfred J. Lewy</td>\n",
       "      <td>alfred j lewy aka sandy lewy graduated from un...</td>\n",
       "      <td>{'moving': 0.072655298197632542, 'his': 0.0218...</td>\n",
       "      <td>{\"moving\": 0.07265529819763254, \"his\": 0.02189...</td>\n",
       "    </tr>\n",
       "    <tr>\n",
       "      <th>2</th>\n",
       "      <td>&lt;http://dbpedia.org/resource/Harpdog_Brown&gt;</td>\n",
       "      <td>Harpdog Brown</td>\n",
       "      <td>harpdog brown is a singer and harmonica player...</td>\n",
       "      <td>{'won': 0.034258178312352588, 'what': 0.109773...</td>\n",
       "      <td>{\"won\": 0.03425817831235259, \"what\": 0.1097737...</td>\n",
       "    </tr>\n",
       "    <tr>\n",
       "      <th>3</th>\n",
       "      <td>&lt;http://dbpedia.org/resource/Franz_Rottensteiner&gt;</td>\n",
       "      <td>Franz Rottensteiner</td>\n",
       "      <td>franz rottensteiner born in waidmannsfeld lowe...</td>\n",
       "      <td>{'ones': 0.069140065025941375, 'die': 0.066240...</td>\n",
       "      <td>{\"ones\": 0.06914006502594137, \"die\": 0.0662407...</td>\n",
       "    </tr>\n",
       "    <tr>\n",
       "      <th>4</th>\n",
       "      <td>&lt;http://dbpedia.org/resource/G-Enka&gt;</td>\n",
       "      <td>G-Enka</td>\n",
       "      <td>henry krvits born 30 december 1974 in tallinn ...</td>\n",
       "      <td>{'better': 0.068868121877240659, '2006': 0.039...</td>\n",
       "      <td>{\"better\": 0.06886812187724066, \"2006\": 0.0390...</td>\n",
       "    </tr>\n",
       "  </tbody>\n",
       "</table>\n",
       "</div>"
      ],
      "text/plain": [
       "                                                 URI                 name  \\\n",
       "0        <http://dbpedia.org/resource/Digby_Morrell>        Digby Morrell   \n",
       "1       <http://dbpedia.org/resource/Alfred_J._Lewy>       Alfred J. Lewy   \n",
       "2        <http://dbpedia.org/resource/Harpdog_Brown>        Harpdog Brown   \n",
       "3  <http://dbpedia.org/resource/Franz_Rottensteiner>  Franz Rottensteiner   \n",
       "4               <http://dbpedia.org/resource/G-Enka>               G-Enka   \n",
       "\n",
       "                                                text  \\\n",
       "0  digby morrell born 10 october 1979 is a former...   \n",
       "1  alfred j lewy aka sandy lewy graduated from un...   \n",
       "2  harpdog brown is a singer and harmonica player...   \n",
       "3  franz rottensteiner born in waidmannsfeld lowe...   \n",
       "4  henry krvits born 30 december 1974 in tallinn ...   \n",
       "\n",
       "                                               tfidf  \\\n",
       "0  {'clubs': 0.062723630482851067, '2006': 0.0355...   \n",
       "1  {'moving': 0.072655298197632542, 'his': 0.0218...   \n",
       "2  {'won': 0.034258178312352588, 'what': 0.109773...   \n",
       "3  {'ones': 0.069140065025941375, 'die': 0.066240...   \n",
       "4  {'better': 0.068868121877240659, '2006': 0.039...   \n",
       "\n",
       "                                              tfidf2  \n",
       "0  {\"clubs\": 0.06272363048285107, \"2006\": 0.03556...  \n",
       "1  {\"moving\": 0.07265529819763254, \"his\": 0.02189...  \n",
       "2  {\"won\": 0.03425817831235259, \"what\": 0.1097737...  \n",
       "3  {\"ones\": 0.06914006502594137, \"die\": 0.0662407...  \n",
       "4  {\"better\": 0.06886812187724066, \"2006\": 0.0390...  "
      ]
     },
     "execution_count": 106,
     "metadata": {},
     "output_type": "execute_result"
    }
   ],
   "source": [
    "people.head(5)"
   ]
  },
  {
   "cell_type": "code",
   "execution_count": 107,
   "metadata": {
    "collapsed": true
   },
   "outputs": [],
   "source": [
    "obama = people.loc[people.loc[:,\"name\"] == \"Barack Obama\"]"
   ]
  },
  {
   "cell_type": "code",
   "execution_count": 108,
   "metadata": {
    "collapsed": false
   },
   "outputs": [
    {
     "data": {
      "text/html": [
       "<div>\n",
       "<table border=\"1\" class=\"dataframe\">\n",
       "  <thead>\n",
       "    <tr style=\"text-align: right;\">\n",
       "      <th></th>\n",
       "      <th>URI</th>\n",
       "      <th>name</th>\n",
       "      <th>text</th>\n",
       "      <th>tfidf</th>\n",
       "      <th>tfidf2</th>\n",
       "    </tr>\n",
       "  </thead>\n",
       "  <tbody>\n",
       "    <tr>\n",
       "      <th>35817</th>\n",
       "      <td>&lt;http://dbpedia.org/resource/Barack_Obama&gt;</td>\n",
       "      <td>Barack Obama</td>\n",
       "      <td>barack hussein obama ii brk husen bm born augu...</td>\n",
       "      <td>{'won': 0.018164529003915339, 'general': 0.024...</td>\n",
       "      <td>{\"won\": 0.01816452900391534, \"general\": 0.0245...</td>\n",
       "    </tr>\n",
       "  </tbody>\n",
       "</table>\n",
       "</div>"
      ],
      "text/plain": [
       "                                              URI          name  \\\n",
       "35817  <http://dbpedia.org/resource/Barack_Obama>  Barack Obama   \n",
       "\n",
       "                                                    text  \\\n",
       "35817  barack hussein obama ii brk husen bm born augu...   \n",
       "\n",
       "                                                   tfidf  \\\n",
       "35817  {'won': 0.018164529003915339, 'general': 0.024...   \n",
       "\n",
       "                                                  tfidf2  \n",
       "35817  {\"won\": 0.01816452900391534, \"general\": 0.0245...  "
      ]
     },
     "execution_count": 108,
     "metadata": {},
     "output_type": "execute_result"
    }
   ],
   "source": [
    "obama"
   ]
  },
  {
   "cell_type": "code",
   "execution_count": 109,
   "metadata": {
    "collapsed": false
   },
   "outputs": [
    {
     "data": {
      "text/plain": [
       "OrderedDict([('obama', 0.3983862007203234),\n",
       "             ('the', 0.30485743226669804),\n",
       "             ('act', 0.27185987662017774),\n",
       "             ('in', 0.22884055920050594),\n",
       "             ('iraq', 0.16568635397679352),\n",
       "             ('and', 0.16015314257916738),\n",
       "             ('law', 0.15791425408479473),\n",
       "             ('control', 0.14391109380018258),\n",
       "             ('of', 0.13774201209013084),\n",
       "             ('us', 0.13406301846956642),\n",
       "             ('ordered', 0.1335671861081277),\n",
       "             ('military', 0.13042155292939375),\n",
       "             ('democratic', 0.12504933995276982),\n",
       "             ('response', 0.12026041865196672),\n",
       "             ('involvement', 0.12026041865196672),\n",
       "             ('to', 0.11169769826290973),\n",
       "             ('his', 0.10584085657839853),\n",
       "             ('senate', 0.1003095173774816),\n",
       "             ('term', 0.09387327670917242),\n",
       "             ('campaign', 0.09203868780800897),\n",
       "             ('nominee', 0.08708336390533508),\n",
       "             ('afghanistan', 0.0869973355106571),\n",
       "             ('president', 0.08555354647608826),\n",
       "             ('domestic', 0.0835563514572572),\n",
       "             ('relief', 0.08260553282876201),\n",
       "             ('election', 0.08163300749915389),\n",
       "             ('protection', 0.08150975240152034),\n",
       "             ('signed', 0.08041610702960118),\n",
       "             ('dont', 0.07833383628494786),\n",
       "             ('party', 0.07667566620314212),\n",
       "             ('representatives', 0.07226781383156336),\n",
       "             ('illinois', 0.07223521205772344),\n",
       "             ('presidential', 0.07152470520898607),\n",
       "             ('republican', 0.07015800923567407),\n",
       "             ('primary', 0.0663771929258432),\n",
       "             ('january', 0.06596408350534108),\n",
       "             ('harvard', 0.06578993968967284),\n",
       "             ('he', 0.06472648453667826),\n",
       "             ('states', 0.06456938645440785),\n",
       "             ('foreign', 0.06386807008928089),\n",
       "             ('2011', 0.06177928273248464),\n",
       "             ('policy', 0.061687023844127685),\n",
       "             ('2004', 0.061504901847263795),\n",
       "             ('chicago', 0.059880387824113326),\n",
       "             ('after', 0.059268945832242126),\n",
       "             ('united', 0.05870632719056413),\n",
       "             ('2009', 0.05862664602677627),\n",
       "             ('office', 0.05523257310958773),\n",
       "             ('20', 0.05245908882132717),\n",
       "             ('as', 0.05153856086685181),\n",
       "             ('school', 0.05081640232684796),\n",
       "             ('house', 0.05068337445364365),\n",
       "             ('bin', 0.050381977243373635),\n",
       "             ('lgbt', 0.0501731789293536),\n",
       "             ('sandy', 0.049453096175117534),\n",
       "             ('american', 0.04863527149013433),\n",
       "             ('limit', 0.04840433020759095),\n",
       "             ('equality', 0.04829623390256231),\n",
       "             ('gun', 0.047752594653456076),\n",
       "             ('63', 0.04738673263414445),\n",
       "             ('recovery', 0.046489147961945906),\n",
       "             ('nobel', 0.046280349647925864),\n",
       "             ('barack', 0.04621880964946478),\n",
       "             ('arms', 0.04593801666400153),\n",
       "             ('strike', 0.04589873481553209),\n",
       "             ('cuba', 0.045743601484284614),\n",
       "             ('seats', 0.045705306621139904),\n",
       "             ('sworn', 0.045405684276399745),\n",
       "             ('elementary', 0.045405684276399745),\n",
       "             ('13th', 0.04535079331834023),\n",
       "             ('november', 0.04530562439524038),\n",
       "             ('combat', 0.04518845355683292),\n",
       "             ('initiatives', 0.04490812174767451),\n",
       "             ('unsuccessfully', 0.04442490156551468),\n",
       "             ('hawaii', 0.044233577833169876),\n",
       "             ('tell', 0.044217848907607965),\n",
       "             ('address', 0.04420215237944398),\n",
       "             ('islamic', 0.04407773064860855),\n",
       "             ('debate', 0.04406231980062789),\n",
       "             ('americans', 0.04389482598734218),\n",
       "             ('consumer', 0.04383482046684409),\n",
       "             ('increased', 0.04380499396407479),\n",
       "             ('whether', 0.04376047195781266),\n",
       "             ('has', 0.0435441100803723),\n",
       "             ('filed', 0.04348438347424023),\n",
       "             ('legislation', 0.043328998519149946),\n",
       "             ('shooting', 0.04328716495538158),\n",
       "             ('raise', 0.04323174171669536),\n",
       "             ('policies', 0.04312209001585984),\n",
       "             ('levels', 0.043027422193124186),\n",
       "             ('insurance', 0.0426217633176105),\n",
       "             ('ending', 0.0422608808863754),\n",
       "             ('tax', 0.04224873640296153),\n",
       "             ('clinton', 0.04222450534366129),\n",
       "             ('constitutional', 0.042128344298283577),\n",
       "             ('budget', 0.04208071500743119),\n",
       "             ('receive', 0.04150918327159123),\n",
       "             ('convention', 0.04127067937022092),\n",
       "             ('was', 0.04112735439242838),\n",
       "             ('operation', 0.04082502085392755),\n",
       "             ('second', 0.04073019063540995),\n",
       "             ('sought', 0.040587165549513186),\n",
       "             ('defeating', 0.0402717828165382),\n",
       "             ('referred', 0.04004125520465795),\n",
       "             ('2010', 0.03951847907599085),\n",
       "             ('represent', 0.03949794354726235),\n",
       "             ('spending', 0.03943896632409217),\n",
       "             ('hold', 0.039199381074330575),\n",
       "             ('marriage', 0.03897499206828195),\n",
       "             ('reform', 0.038803207583338835),\n",
       "             ('first', 0.03876450453458703),\n",
       "             ('served', 0.03865520626122844),\n",
       "             ('creation', 0.03836805160494767),\n",
       "             ('russia', 0.038288253370791954),\n",
       "             ('wall', 0.03825944176093643),\n",
       "             ('resulted', 0.03821642756359744),\n",
       "             ('care', 0.0374615590863469),\n",
       "             ('supreme', 0.03744215985212212),\n",
       "             ('earning', 0.037009086846725624),\n",
       "             ('terms', 0.03675704198967204),\n",
       "             ('operations', 0.036663175839372335),\n",
       "             ('defense', 0.036530237147981065),\n",
       "             ('peace', 0.03651878611392654),\n",
       "             ('nomination', 0.03634346074565285),\n",
       "             ('process', 0.036155695813339765),\n",
       "             ('related', 0.03599377764576899),\n",
       "             ('reelected', 0.035679910564711544),\n",
       "             ('attorney', 0.03550261897910075),\n",
       "             ('during', 0.03532053054775059),\n",
       "             ('african', 0.03491501233168564),\n",
       "             ('close', 0.0346061470559338),\n",
       "             ('representing', 0.03455733915749293),\n",
       "             ('promoted', 0.034434493360676346),\n",
       "             ('job', 0.03388467795074281),\n",
       "             ('relations', 0.03387658377926558),\n",
       "             ('attention', 0.0337323398187174),\n",
       "             ('defeated', 0.03357909629076107),\n",
       "             ('victory', 0.03340982677944607),\n",
       "             ('national', 0.03331921105018249),\n",
       "             ('nations', 0.03323679346253557),\n",
       "             ('running', 0.033159087571337974),\n",
       "             ('ended', 0.033093107403940815),\n",
       "             ('civil', 0.032952080457638644),\n",
       "             ('1961', 0.032923471651709245),\n",
       "             ('ii', 0.032824178237493555),\n",
       "             ('administration', 0.03272964090442375),\n",
       "             ('for', 0.03270365067052926),\n",
       "             ('start', 0.03262252487489548),\n",
       "             ('total', 0.03258829003866148),\n",
       "             ('economic', 0.03254061818337536),\n",
       "             ('nine', 0.032479760756522945),\n",
       "             ('street', 0.03238604919864412),\n",
       "             ('form', 0.032260684836583814),\n",
       "             ('columbia', 0.03225414349564193),\n",
       "             ('review', 0.03221501292581725),\n",
       "             ('death', 0.03167516034100229),\n",
       "             ('federal', 0.031156866881003397),\n",
       "             ('rights', 0.030988880761006747),\n",
       "             ('months', 0.03080557113807072),\n",
       "             ('full', 0.0305034608414313),\n",
       "             ('down', 0.030081456627493692),\n",
       "             ('court', 0.029690936532597943),\n",
       "             ('from', 0.02957768322472281),\n",
       "             ('often', 0.029433752103195945),\n",
       "             ('taught', 0.029326132849826634),\n",
       "             ('current', 0.029191523771487864),\n",
       "             ('war', 0.02903135628303948),\n",
       "             ('district', 0.02876201717792842),\n",
       "             ('great', 0.028714613314521065),\n",
       "             ('prize', 0.028539931650253675),\n",
       "             ('lost', 0.028436220442167502),\n",
       "             ('continued', 0.028351512718677304),\n",
       "             ('university', 0.028155608235645127),\n",
       "             ('community', 0.028142820299393273),\n",
       "             ('graduate', 0.028004928742941915),\n",
       "             ('with', 0.027490733439307233),\n",
       "             ('included', 0.026248846632864562),\n",
       "             ('1992', 0.02498459470523347),\n",
       "             ('general', 0.024542994983789278),\n",
       "             ('1996', 0.02389617088068657),\n",
       "             ('1997', 0.02385045330425908),\n",
       "             ('called', 0.023459130369045112),\n",
       "             ('major', 0.023304017812308078),\n",
       "             ('named', 0.02308987024800228),\n",
       "             ('degree', 0.0230185069779626),\n",
       "             ('against', 0.022921821315028085),\n",
       "             ('august', 0.02286248646457752),\n",
       "             ('john', 0.022795101134452708),\n",
       "             ('march', 0.022536843368152565),\n",
       "             ('2013', 0.02251495276285413),\n",
       "             ('july', 0.022425312863836384),\n",
       "             ('or', 0.022197416415825386),\n",
       "             ('while', 0.02161564788524273),\n",
       "             ('2012', 0.021290033991143723),\n",
       "             ('began', 0.020784453965378768),\n",
       "             ('state', 0.020644225518313488),\n",
       "             ('into', 0.019851790275666158),\n",
       "             ('not', 0.019721900340922954),\n",
       "             ('worked', 0.01946247491534852),\n",
       "             ('received', 0.019353424711157165),\n",
       "             ('born', 0.019328910252224104),\n",
       "             ('made', 0.01920273968630356),\n",
       "             ('2008', 0.019122953738474575),\n",
       "             ('before', 0.01902668658456465),\n",
       "             ('three', 0.018987026981584505),\n",
       "             ('2007', 0.01896013016386998),\n",
       "             ('over', 0.01895841656455322),\n",
       "             ('other', 0.018612293186876443),\n",
       "             ('then', 0.018524926079188733),\n",
       "             ('at', 0.018523012364166577),\n",
       "             ('won', 0.01816452900391534),\n",
       "             ('on', 0.018051965631947407),\n",
       "             ('two', 0.0159950077762759),\n",
       "             ('where', 0.015919888803960686),\n",
       "             ('years', 0.015814816571086573),\n",
       "             ('is', 0.015662224440366086),\n",
       "             ('new', 0.014381798942025768),\n",
       "             ('which', 0.01346884462904259),\n",
       "             ('that', 0.012660899390863012),\n",
       "             ('by', 0.01047494796957134)])"
      ]
     },
     "execution_count": 109,
     "metadata": {},
     "output_type": "execute_result"
    }
   ],
   "source": [
    "OrderedDict(sorted(json.loads(obama.loc[35817,\"tfidf\"]).items(), key=lambda t: t[1], reverse=True))"
   ]
  },
  {
   "cell_type": "code",
   "execution_count": null,
   "metadata": {
    "collapsed": true
   },
   "outputs": [],
   "source": []
  }
 ],
 "metadata": {
  "kernelspec": {
   "display_name": "Python 3",
   "language": "python",
   "name": "python3"
  },
  "language_info": {
   "codemirror_mode": {
    "name": "ipython",
    "version": 3
   },
   "file_extension": ".py",
   "mimetype": "text/x-python",
   "name": "python",
   "nbconvert_exporter": "python",
   "pygments_lexer": "ipython3",
   "version": "3.5.1"
  }
 },
 "nbformat": 4,
 "nbformat_minor": 0
}
