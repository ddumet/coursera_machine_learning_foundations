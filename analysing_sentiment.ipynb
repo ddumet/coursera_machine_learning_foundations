{
 "cells": [
  {
   "cell_type": "markdown",
   "metadata": {},
   "source": [
    "# Predicting sentiments from product reviews\n",
    "The dataset used in this notebook can be found here [amazon_baby.csv](https://d396qusza40orc.cloudfront.net/phoenixassets/amazon_baby.csv)"
   ]
  },
  {
   "cell_type": "code",
   "execution_count": 1,
   "metadata": {
    "collapsed": false
   },
   "outputs": [],
   "source": [
    "import pandas as pd\n",
    "import numpy as np"
   ]
  },
  {
   "cell_type": "code",
   "execution_count": 2,
   "metadata": {
    "collapsed": false
   },
   "outputs": [],
   "source": [
    "#visualisation\n",
    "import matplotlib.pyplot as plt\n",
    "%matplotlib inline"
   ]
  },
  {
   "cell_type": "markdown",
   "metadata": {},
   "source": [
    "Import necessary package for words preprocessing (cleaning text):\n",
    "- Import re (regular expression, for removing punctuation)\n",
    "- Import nltk and download stopwords corpus (remove stopwords such as \"and\", \"the\", etc)"
   ]
  },
  {
   "cell_type": "code",
   "execution_count": 3,
   "metadata": {
    "collapsed": false
   },
   "outputs": [],
   "source": [
    "import re, collections\n",
    "import nltk\n",
    "#nltk.download()\n",
    "from nltk.corpus import stopwords"
   ]
  },
  {
   "cell_type": "code",
   "execution_count": 4,
   "metadata": {
    "collapsed": false
   },
   "outputs": [],
   "source": [
    "from sklearn.feature_extraction.text import CountVectorizer\n",
    "from sklearn.linear_model import LogisticRegression\n",
    "from sklearn.cross_validation import train_test_split\n",
    "\n",
    "from sklearn.metrics import accuracy_score\n",
    "from sklearn.metrics import precision_score\n",
    "from sklearn.metrics import recall_score\n",
    "from sklearn.metrics import f1_score\n",
    "from sklearn.metrics import confusion_matrix\n",
    "from sklearn.metrics import roc_curve"
   ]
  },
  {
   "cell_type": "code",
   "execution_count": 5,
   "metadata": {
    "collapsed": false
   },
   "outputs": [],
   "source": [
    "products = pd.read_csv(\"./data/amazon_baby.csv\")"
   ]
  },
  {
   "cell_type": "markdown",
   "metadata": {},
   "source": [
    "## A bit of data exploration"
   ]
  },
  {
   "cell_type": "code",
   "execution_count": 6,
   "metadata": {
    "collapsed": false
   },
   "outputs": [
    {
     "data": {
      "text/html": [
       "<div>\n",
       "<table border=\"1\" class=\"dataframe\">\n",
       "  <thead>\n",
       "    <tr style=\"text-align: right;\">\n",
       "      <th></th>\n",
       "      <th>name</th>\n",
       "      <th>review</th>\n",
       "      <th>rating</th>\n",
       "    </tr>\n",
       "  </thead>\n",
       "  <tbody>\n",
       "    <tr>\n",
       "      <th>0</th>\n",
       "      <td>Planetwise Flannel Wipes</td>\n",
       "      <td>These flannel wipes are OK, but in my opinion ...</td>\n",
       "      <td>3</td>\n",
       "    </tr>\n",
       "    <tr>\n",
       "      <th>1</th>\n",
       "      <td>Planetwise Wipe Pouch</td>\n",
       "      <td>it came early and was not disappointed. i love...</td>\n",
       "      <td>5</td>\n",
       "    </tr>\n",
       "    <tr>\n",
       "      <th>2</th>\n",
       "      <td>Annas Dream Full Quilt with 2 Shams</td>\n",
       "      <td>Very soft and comfortable and warmer than it l...</td>\n",
       "      <td>5</td>\n",
       "    </tr>\n",
       "    <tr>\n",
       "      <th>3</th>\n",
       "      <td>Stop Pacifier Sucking without tears with Thumb...</td>\n",
       "      <td>This is a product well worth the purchase.  I ...</td>\n",
       "      <td>5</td>\n",
       "    </tr>\n",
       "    <tr>\n",
       "      <th>4</th>\n",
       "      <td>Stop Pacifier Sucking without tears with Thumb...</td>\n",
       "      <td>All of my kids have cried non-stop when I trie...</td>\n",
       "      <td>5</td>\n",
       "    </tr>\n",
       "  </tbody>\n",
       "</table>\n",
       "</div>"
      ],
      "text/plain": [
       "                                                name  \\\n",
       "0                           Planetwise Flannel Wipes   \n",
       "1                              Planetwise Wipe Pouch   \n",
       "2                Annas Dream Full Quilt with 2 Shams   \n",
       "3  Stop Pacifier Sucking without tears with Thumb...   \n",
       "4  Stop Pacifier Sucking without tears with Thumb...   \n",
       "\n",
       "                                              review  rating  \n",
       "0  These flannel wipes are OK, but in my opinion ...       3  \n",
       "1  it came early and was not disappointed. i love...       5  \n",
       "2  Very soft and comfortable and warmer than it l...       5  \n",
       "3  This is a product well worth the purchase.  I ...       5  \n",
       "4  All of my kids have cried non-stop when I trie...       5  "
      ]
     },
     "execution_count": 6,
     "metadata": {},
     "output_type": "execute_result"
    }
   ],
   "source": [
    "products.head(5)"
   ]
  },
  {
   "cell_type": "code",
   "execution_count": 7,
   "metadata": {
    "collapsed": false
   },
   "outputs": [
    {
     "data": {
      "text/plain": [
       "name      183213\n",
       "review    182702\n",
       "rating    183531\n",
       "dtype: int64"
      ]
     },
     "execution_count": 7,
     "metadata": {},
     "output_type": "execute_result"
    }
   ],
   "source": [
    "products.count()"
   ]
  },
  {
   "cell_type": "markdown",
   "metadata": {
    "collapsed": false
   },
   "source": [
    "Some reviews are obviously **missing (NaN)**. Replace NaN reviews with \" \" to avoid errors when processing texts later on."
   ]
  },
  {
   "cell_type": "code",
   "execution_count": 8,
   "metadata": {
    "collapsed": true
   },
   "outputs": [],
   "source": [
    "products[\"review\"].fillna(\" \",inplace=True)"
   ]
  },
  {
   "cell_type": "markdown",
   "metadata": {},
   "source": [
    "## Create bag of words for reviews"
   ]
  },
  {
   "cell_type": "markdown",
   "metadata": {},
   "source": [
    "### Clean the reviews first\n",
    "- Remove punctuation (using regular expression)\n",
    "- Change review to lowercase only and split text in words\n",
    "- (optionally remove stop words. This is not done in the course)\n",
    "- Finally Put all reviews in a list (reviews)"
   ]
  },
  {
   "cell_type": "code",
   "execution_count": 9,
   "metadata": {
    "collapsed": true
   },
   "outputs": [],
   "source": [
    "def clean_review(raw_review, stopswrd):\n",
    "    review = re.sub(\"[^a-zA-Z]\",\" \",raw_review)\n",
    "    review = review.lower().split()\n",
    "    review = [w for w in review if not w in stopswrd]\n",
    "    return(\" \".join(review))"
   ]
  },
  {
   "cell_type": "code",
   "execution_count": 10,
   "metadata": {
    "collapsed": false
   },
   "outputs": [],
   "source": [
    "stopswrd = set(stopwords.words(\"english\"))"
   ]
  },
  {
   "cell_type": "code",
   "execution_count": 11,
   "metadata": {
    "collapsed": false
   },
   "outputs": [],
   "source": [
    "reviews = []\n",
    "num_reviews = products.shape[0]"
   ]
  },
  {
   "cell_type": "code",
   "execution_count": 12,
   "metadata": {
    "collapsed": false
   },
   "outputs": [],
   "source": [
    "for i in range(0,num_reviews):\n",
    "    reviews.append(clean_review(products[\"review\"][i],stopswrd))"
   ]
  },
  {
   "cell_type": "markdown",
   "metadata": {},
   "source": [
    "### The bag of words\n",
    "Create a data frame containing bag of words for each review and add the column to the **products** DataFrame."
   ]
  },
  {
   "cell_type": "code",
   "execution_count": 13,
   "metadata": {
    "collapsed": false
   },
   "outputs": [
    {
     "name": "stdout",
     "output_type": "stream",
     "text": [
      "Wall time: 5.56 s\n"
     ]
    }
   ],
   "source": [
    "%%time\n",
    "bagofwords = pd.DataFrame((str(dict(collections.Counter(re.findall(r\"\\w+\", txt)))) for txt in reviews),columns=[\"word_count\"])"
   ]
  },
  {
   "cell_type": "code",
   "execution_count": 14,
   "metadata": {
    "collapsed": false
   },
   "outputs": [],
   "source": [
    "products.insert(len(products.columns),\"word_count\",bagofwords)"
   ]
  },
  {
   "cell_type": "code",
   "execution_count": 15,
   "metadata": {
    "collapsed": false
   },
   "outputs": [
    {
     "data": {
      "text/html": [
       "<div>\n",
       "<table border=\"1\" class=\"dataframe\">\n",
       "  <thead>\n",
       "    <tr style=\"text-align: right;\">\n",
       "      <th></th>\n",
       "      <th>name</th>\n",
       "      <th>review</th>\n",
       "      <th>rating</th>\n",
       "      <th>word_count</th>\n",
       "    </tr>\n",
       "  </thead>\n",
       "  <tbody>\n",
       "    <tr>\n",
       "      <th>0</th>\n",
       "      <td>Planetwise Flannel Wipes</td>\n",
       "      <td>These flannel wipes are OK, but in my opinion ...</td>\n",
       "      <td>3</td>\n",
       "      <td>{'fab': 1, 'keeping': 1, 'texture': 1, 'usingt...</td>\n",
       "    </tr>\n",
       "    <tr>\n",
       "      <th>1</th>\n",
       "      <td>Planetwise Wipe Pouch</td>\n",
       "      <td>it came early and was not disappointed. i love...</td>\n",
       "      <td>5</td>\n",
       "      <td>{'early': 1, 'planet': 1, 'love': 1, 'came': 1...</td>\n",
       "    </tr>\n",
       "    <tr>\n",
       "      <th>2</th>\n",
       "      <td>Annas Dream Full Quilt with 2 Shams</td>\n",
       "      <td>Very soft and comfortable and warmer than it l...</td>\n",
       "      <td>5</td>\n",
       "      <td>{'full': 1, 'would': 1, 'anyone': 1, 'quilt': ...</td>\n",
       "    </tr>\n",
       "    <tr>\n",
       "      <th>3</th>\n",
       "      <td>Stop Pacifier Sucking without tears with Thumb...</td>\n",
       "      <td>This is a product well worth the purchase.  I ...</td>\n",
       "      <td>5</td>\n",
       "      <td>{'daughter': 1, 'losing': 1, 'love': 2, 'produ...</td>\n",
       "    </tr>\n",
       "    <tr>\n",
       "      <th>4</th>\n",
       "      <td>Stop Pacifier Sucking without tears with Thumb...</td>\n",
       "      <td>All of my kids have cried non-stop when I trie...</td>\n",
       "      <td>5</td>\n",
       "      <td>{'help': 1, 'love': 1, 'ween': 1, 'book': 2, '...</td>\n",
       "    </tr>\n",
       "  </tbody>\n",
       "</table>\n",
       "</div>"
      ],
      "text/plain": [
       "                                                name  \\\n",
       "0                           Planetwise Flannel Wipes   \n",
       "1                              Planetwise Wipe Pouch   \n",
       "2                Annas Dream Full Quilt with 2 Shams   \n",
       "3  Stop Pacifier Sucking without tears with Thumb...   \n",
       "4  Stop Pacifier Sucking without tears with Thumb...   \n",
       "\n",
       "                                              review  rating  \\\n",
       "0  These flannel wipes are OK, but in my opinion ...       3   \n",
       "1  it came early and was not disappointed. i love...       5   \n",
       "2  Very soft and comfortable and warmer than it l...       5   \n",
       "3  This is a product well worth the purchase.  I ...       5   \n",
       "4  All of my kids have cried non-stop when I trie...       5   \n",
       "\n",
       "                                          word_count  \n",
       "0  {'fab': 1, 'keeping': 1, 'texture': 1, 'usingt...  \n",
       "1  {'early': 1, 'planet': 1, 'love': 1, 'came': 1...  \n",
       "2  {'full': 1, 'would': 1, 'anyone': 1, 'quilt': ...  \n",
       "3  {'daughter': 1, 'losing': 1, 'love': 2, 'produ...  \n",
       "4  {'help': 1, 'love': 1, 'ween': 1, 'book': 2, '...  "
      ]
     },
     "execution_count": 15,
     "metadata": {},
     "output_type": "execute_result"
    }
   ],
   "source": [
    "products.head(5)"
   ]
  },
  {
   "cell_type": "markdown",
   "metadata": {},
   "source": [
    "## Most Frequent products reviewed (top 20)\n",
    "- Slice products to retain only name and review columns\n",
    "- Count on review\n",
    "- Sort on review and slice the last 20 rows (by Default sorting is ascending, i.e. top20 will be last 20 rows)"
   ]
  },
  {
   "cell_type": "code",
   "execution_count": 16,
   "metadata": {
    "collapsed": false
   },
   "outputs": [],
   "source": [
    "data = products.loc[:,[\"name\",\"review\"]]\n",
    "data = data.groupby(\"name\").count().sort_values(\"review\")\n",
    "data = data.iloc[len(data)-20:len(data)]"
   ]
  },
  {
   "cell_type": "code",
   "execution_count": 17,
   "metadata": {
    "collapsed": true
   },
   "outputs": [],
   "source": [
    "barh_bottom = np.arange(len(data))\n",
    "barh_width = data[\"review\"]"
   ]
  },
  {
   "cell_type": "code",
   "execution_count": 18,
   "metadata": {
    "collapsed": false,
    "scrolled": true
   },
   "outputs": [
    {
     "data": {
      "image/png": "[encoded data removed]",
      "text/plain": [
       "<matplotlib.figure.Figure at 0x1a802128>"
      ]
     },
     "metadata": {},
     "output_type": "display_data"
    }
   ],
   "source": [
    "plt.rcdefaults()\n",
    "plt.barh(barh_bottom, barh_width, height = 0.8, align='center', alpha=0.4)\n",
    "plt.yticks(barh_bottom, data.index);\n",
    "plt.show()"
   ]
  },
  {
   "cell_type": "markdown",
   "metadata": {},
   "source": [
    "## Exploring Vulli Sophie"
   ]
  },
  {
   "cell_type": "code",
   "execution_count": 19,
   "metadata": {
    "collapsed": false
   },
   "outputs": [
    {
     "name": "stdout",
     "output_type": "stream",
     "text": [
      "Number of review for Vulli Sophie: 785\n"
     ]
    }
   ],
   "source": [
    "sophie = products[products[\"name\"] == \"Vulli Sophie the Giraffe Teether\"]\n",
    "print(\"Number of review for Vulli Sophie:\",sophie.shape[0])"
   ]
  },
  {
   "cell_type": "code",
   "execution_count": 20,
   "metadata": {
    "collapsed": false
   },
   "outputs": [],
   "source": [
    "data = sophie.loc[:,[\"name\",\"rating\"]]\n",
    "data = data.groupby(\"rating\").count().sort_values(\"name\")"
   ]
  },
  {
   "cell_type": "code",
   "execution_count": 21,
   "metadata": {
    "collapsed": false
   },
   "outputs": [],
   "source": [
    "barh_bottom = np.arange(len(data))\n",
    "barh_width = data[\"name\"]"
   ]
  },
  {
   "cell_type": "code",
   "execution_count": 22,
   "metadata": {
    "collapsed": false
   },
   "outputs": [
    {
     "data": {
      "image/png": "[encoded data removed]",
      "text/plain": [
       "<matplotlib.figure.Figure at 0x1bcd7780>"
      ]
     },
     "metadata": {},
     "output_type": "display_data"
    }
   ],
   "source": [
    "plt.barh(barh_bottom, barh_width, height = 0.8, align='center', alpha=0.4)\n",
    "plt.yticks(barh_bottom, data.index);\n",
    "plt.show()"
   ]
  },
  {
   "cell_type": "markdown",
   "metadata": {},
   "source": [
    "## Train a sentiment classifier"
   ]
  },
  {
   "cell_type": "markdown",
   "metadata": {},
   "source": [
    "### Use sklearn then to create bag of words\n",
    "Each review will lead to a creation of a **[max_features]** row vector holding the counts for each word of the vocabulary. **[max_features]** being the maximum number of word to include into the vocabulary.\n",
    "The result is a **sparse** matrix of which shape is (**nb_products_review**,**max_features**)\n",
    "\n",
    "**Important to make that step here (and not AFTER slicing products) so that we have same row indexes for products and word_count, as we'll use indexes latter for predictions**"
   ]
  },
  {
   "cell_type": "code",
   "execution_count": 23,
   "metadata": {
    "collapsed": true
   },
   "outputs": [],
   "source": [
    "vectorizer = CountVectorizer(analyzer = \"word\",tokenizer = None,\n",
    "                             preprocessor = None,\n",
    "                             stop_words = stopswrd,\n",
    "                             max_features = 5000\n",
    "                            )"
   ]
  },
  {
   "cell_type": "code",
   "execution_count": 24,
   "metadata": {
    "collapsed": false
   },
   "outputs": [
    {
     "name": "stdout",
     "output_type": "stream",
     "text": [
      "Wall time: 8.84 s\n"
     ]
    }
   ],
   "source": [
    "%%time\n",
    "words_count = vectorizer.fit_transform(products.loc[:,\"review\"])"
   ]
  },
  {
   "cell_type": "code",
   "execution_count": 25,
   "metadata": {
    "collapsed": false
   },
   "outputs": [
    {
     "name": "stdout",
     "output_type": "stream",
     "text": [
      "products shape: (183531, 4)  words_count shape: (183531, 5000)\n"
     ]
    }
   ],
   "source": [
    "print(\"products shape:\",products.shape,\" words_count shape:\",words_count.shape)"
   ]
  },
  {
   "cell_type": "markdown",
   "metadata": {},
   "source": [
    "### Define what's a positive and a negative sentiment\n",
    "Define rating >= 4 as positive sentiment (1), rating < 4 as negative sentiment (0), remove \"3\" rating."
   ]
  },
  {
   "cell_type": "code",
   "execution_count": 26,
   "metadata": {
    "collapsed": true
   },
   "outputs": [],
   "source": [
    "products[\"sentiment\"]=0\n",
    "products.loc[products.rating >= 4, \"sentiment\"] = 1\n",
    "products = products[products.loc[:,\"rating\"] != 3]"
   ]
  },
  {
   "cell_type": "markdown",
   "metadata": {},
   "source": [
    "Reduce words_count accordingly to products (i.e. remove appropriate rows)."
   ]
  },
  {
   "cell_type": "code",
   "execution_count": 27,
   "metadata": {
    "collapsed": false
   },
   "outputs": [],
   "source": [
    "words_count = words_count[products.index]"
   ]
  },
  {
   "cell_type": "code",
   "execution_count": 28,
   "metadata": {
    "collapsed": false
   },
   "outputs": [
    {
     "name": "stdout",
     "output_type": "stream",
     "text": [
      "products shape: (166752, 5)  words_count shape: (166752, 5000)\n"
     ]
    }
   ],
   "source": [
    "print(\"products shape:\",products.shape,\" words_count shape:\",words_count.shape)"
   ]
  },
  {
   "cell_type": "code",
   "execution_count": 50,
   "metadata": {
    "collapsed": false
   },
   "outputs": [
    {
     "data": {
      "text/html": [
       "<div>\n",
       "<table border=\"1\" class=\"dataframe\">\n",
       "  <thead>\n",
       "    <tr style=\"text-align: right;\">\n",
       "      <th></th>\n",
       "      <th>name</th>\n",
       "      <th>review</th>\n",
       "      <th>rating</th>\n",
       "      <th>word_count</th>\n",
       "      <th>sentiment</th>\n",
       "    </tr>\n",
       "  </thead>\n",
       "  <tbody>\n",
       "    <tr>\n",
       "      <th>1</th>\n",
       "      <td>Planetwise Wipe Pouch</td>\n",
       "      <td>it came early and was not disappointed. i love...</td>\n",
       "      <td>5</td>\n",
       "      <td>{'early': 1, 'planet': 1, 'love': 1, 'came': 1...</td>\n",
       "      <td>1</td>\n",
       "    </tr>\n",
       "    <tr>\n",
       "      <th>2</th>\n",
       "      <td>Annas Dream Full Quilt with 2 Shams</td>\n",
       "      <td>Very soft and comfortable and warmer than it l...</td>\n",
       "      <td>5</td>\n",
       "      <td>{'full': 1, 'would': 1, 'anyone': 1, 'quilt': ...</td>\n",
       "      <td>1</td>\n",
       "    </tr>\n",
       "    <tr>\n",
       "      <th>3</th>\n",
       "      <td>Stop Pacifier Sucking without tears with Thumb...</td>\n",
       "      <td>This is a product well worth the purchase.  I ...</td>\n",
       "      <td>5</td>\n",
       "      <td>{'daughter': 1, 'losing': 1, 'love': 2, 'produ...</td>\n",
       "      <td>1</td>\n",
       "    </tr>\n",
       "    <tr>\n",
       "      <th>4</th>\n",
       "      <td>Stop Pacifier Sucking without tears with Thumb...</td>\n",
       "      <td>All of my kids have cried non-stop when I trie...</td>\n",
       "      <td>5</td>\n",
       "      <td>{'help': 1, 'love': 1, 'ween': 1, 'book': 2, '...</td>\n",
       "      <td>1</td>\n",
       "    </tr>\n",
       "    <tr>\n",
       "      <th>5</th>\n",
       "      <td>Stop Pacifier Sucking without tears with Thumb...</td>\n",
       "      <td>When the Binky Fairy came to our house, we did...</td>\n",
       "      <td>5</td>\n",
       "      <td>{'daughter': 1, 'help': 2, 'favorite': 1, 'los...</td>\n",
       "      <td>1</td>\n",
       "    </tr>\n",
       "  </tbody>\n",
       "</table>\n",
       "</div>"
      ],
      "text/plain": [
       "                                                name  \\\n",
       "1                              Planetwise Wipe Pouch   \n",
       "2                Annas Dream Full Quilt with 2 Shams   \n",
       "3  Stop Pacifier Sucking without tears with Thumb...   \n",
       "4  Stop Pacifier Sucking without tears with Thumb...   \n",
       "5  Stop Pacifier Sucking without tears with Thumb...   \n",
       "\n",
       "                                              review  rating  \\\n",
       "1  it came early and was not disappointed. i love...       5   \n",
       "2  Very soft and comfortable and warmer than it l...       5   \n",
       "3  This is a product well worth the purchase.  I ...       5   \n",
       "4  All of my kids have cried non-stop when I trie...       5   \n",
       "5  When the Binky Fairy came to our house, we did...       5   \n",
       "\n",
       "                                          word_count  sentiment  \n",
       "1  {'early': 1, 'planet': 1, 'love': 1, 'came': 1...          1  \n",
       "2  {'full': 1, 'would': 1, 'anyone': 1, 'quilt': ...          1  \n",
       "3  {'daughter': 1, 'losing': 1, 'love': 2, 'produ...          1  \n",
       "4  {'help': 1, 'love': 1, 'ween': 1, 'book': 2, '...          1  \n",
       "5  {'daughter': 1, 'help': 2, 'favorite': 1, 'los...          1  "
      ]
     },
     "execution_count": 50,
     "metadata": {},
     "output_type": "execute_result"
    }
   ],
   "source": [
    "products.head(5)"
   ]
  },
  {
   "cell_type": "markdown",
   "metadata": {},
   "source": [
    "## Logistic Regression"
   ]
  },
  {
   "cell_type": "code",
   "execution_count": 29,
   "metadata": {
    "collapsed": true
   },
   "outputs": [],
   "source": [
    "lr = LogisticRegression()"
   ]
  },
  {
   "cell_type": "code",
   "execution_count": 30,
   "metadata": {
    "collapsed": false
   },
   "outputs": [
    {
     "name": "stdout",
     "output_type": "stream",
     "text": [
      "Wall time: 9.56 s\n"
     ]
    }
   ],
   "source": [
    "%%time\n",
    "X_train, X_test, y_train, y_test = train_test_split(words_count,products[\"sentiment\"],\n",
    "                                                    test_size = 0.2,random_state=0)\n",
    "lr.fit(X_train, y_train)"
   ]
  },
  {
   "cell_type": "markdown",
   "metadata": {},
   "source": [
    "#### Logistic Regression scores\n",
    "- Accuracy\n",
    "- Precision: True Positives/(True Positives + False Positives)\n",
    "- Recall:    True Positives/(True Positives + False Negatives)\n",
    "- F1:        2\\*Precision\\*Recall/(Precision + Recall)"
   ]
  },
  {
   "cell_type": "code",
   "execution_count": 31,
   "metadata": {
    "collapsed": false
   },
   "outputs": [
    {
     "name": "stdout",
     "output_type": "stream",
     "text": [
      "Mean accuracy: 0.923090761896\n",
      "Accuracy: 0.923090761896 number of correct predictions: 30786\n",
      "Precision: 0.941941315533\n",
      "Recall: 0.968023151953\n",
      "F1: 0.954804151322\n"
     ]
    }
   ],
   "source": [
    "print(\"Mean accuracy:\",lr.score(X_test,y_test))\n",
    "\n",
    "y_predict = lr.predict(X_test)\n",
    "\n",
    "print(\"Accuracy:\",accuracy_score(y_test,y_predict),\n",
    "      \"number of correct predictions:\",accuracy_score(y_test,y_predict, normalize=False))\n",
    "print(\"Precision:\",precision_score(y_test,y_predict))\n",
    "print(\"Recall:\",recall_score(y_test,y_predict))\n",
    "print(\"F1:\",f1_score(y_test,y_predict))"
   ]
  },
  {
   "cell_type": "markdown",
   "metadata": {},
   "source": [
    "#### Confusion matrix"
   ]
  },
  {
   "cell_type": "code",
   "execution_count": 32,
   "metadata": {
    "collapsed": false
   },
   "outputs": [
    {
     "name": "stdout",
     "output_type": "stream",
     "text": [
      "True Positives: 3692\n",
      "False Positives: 895\n",
      "True Negatives: 27094\n",
      "False Negatives: 1670\n"
     ]
    }
   ],
   "source": [
    "cm = confusion_matrix(y_test,y_predict)\n",
    "print(\"True Positives:\",cm[0][0])\n",
    "print(\"False Positives:\",cm[1][0])\n",
    "print(\"True Negatives:\",cm[1][1])\n",
    "print(\"False Negatives:\",cm[0][1])"
   ]
  },
  {
   "cell_type": "markdown",
   "metadata": {},
   "source": [
    "#### ROC (Receiver Operating Characteritic) curve\n",
    "roc_curve metric return:\n",
    "- **fpr**, array of false positive rate\n",
    "- **tpr**, array of true positive rate\n",
    "- **thresholds**, array of thresholds for the decision function "
   ]
  },
  {
   "cell_type": "markdown",
   "metadata": {},
   "source": [
    "Get probability for being a positive (column 1 of the output of **lr.predict_proba**)"
   ]
  },
  {
   "cell_type": "code",
   "execution_count": 33,
   "metadata": {
    "collapsed": false
   },
   "outputs": [],
   "source": [
    "y_predict_proba = lr.predict_proba(X_test)[:,1]"
   ]
  },
  {
   "cell_type": "code",
   "execution_count": 34,
   "metadata": {
    "collapsed": true
   },
   "outputs": [],
   "source": [
    "fpr, tpr, thresholds = roc_curve(y_test, y_predict_proba)"
   ]
  },
  {
   "cell_type": "code",
   "execution_count": 35,
   "metadata": {
    "collapsed": false,
    "scrolled": true
   },
   "outputs": [
    {
     "data": {
      "image/png": "[encoded data removed]",
      "text/plain": [
       "<matplotlib.figure.Figure at 0x1dbf4390>"
      ]
     },
     "metadata": {},
     "output_type": "display_data"
    }
   ],
   "source": [
    "plt.plot(fpr, tpr, label='LR')\n",
    "plt.xlabel('False positive rate')\n",
    "plt.ylabel('True positive rate')\n",
    "plt.title('ROC curve')\n",
    "plt.legend(loc='best')\n",
    "plt.show();"
   ]
  },
  {
   "cell_type": "markdown",
   "metadata": {},
   "source": [
    "## Applying our model to Vulli Sophie\n",
    "- Reviews of Vulli Sophie (X_sophie) are extracted from words_count (using index of sophie dataframe).\n",
    "- Add predictions probabilities to the sophie dataframe"
   ]
  },
  {
   "cell_type": "code",
   "execution_count": 36,
   "metadata": {
    "collapsed": true
   },
   "outputs": [],
   "source": [
    "X_sophie = words_count[sophie.index]"
   ]
  },
  {
   "cell_type": "code",
   "execution_count": 37,
   "metadata": {
    "collapsed": false
   },
   "outputs": [],
   "source": [
    "sophie[\"predicted_sentiment\"] = lr.predict_proba(X_sophie)[:,1]"
   ]
  },
  {
   "cell_type": "code",
   "execution_count": 38,
   "metadata": {
    "collapsed": false
   },
   "outputs": [
    {
     "data": {
      "text/html": [
       "<div>\n",
       "<table border=\"1\" class=\"dataframe\">\n",
       "  <thead>\n",
       "    <tr style=\"text-align: right;\">\n",
       "      <th></th>\n",
       "      <th>name</th>\n",
       "      <th>review</th>\n",
       "      <th>rating</th>\n",
       "      <th>word_count</th>\n",
       "      <th>predicted_sentiment</th>\n",
       "    </tr>\n",
       "  </thead>\n",
       "  <tbody>\n",
       "    <tr>\n",
       "      <th>34313</th>\n",
       "      <td>Vulli Sophie the Giraffe Teether</td>\n",
       "      <td>He likes chewing on all the parts especially t...</td>\n",
       "      <td>5</td>\n",
       "      <td>{'teething': 1, 'parts': 1, 'likes': 1, 'espec...</td>\n",
       "      <td>0.998094</td>\n",
       "    </tr>\n",
       "    <tr>\n",
       "      <th>34314</th>\n",
       "      <td>Vulli Sophie the Giraffe Teether</td>\n",
       "      <td>My son loves this toy and fits great in the di...</td>\n",
       "      <td>5</td>\n",
       "      <td>{'help': 1, 'clean': 1, 'right': 1, 'seems': 1...</td>\n",
       "      <td>0.972396</td>\n",
       "    </tr>\n",
       "    <tr>\n",
       "      <th>34315</th>\n",
       "      <td>Vulli Sophie the Giraffe Teether</td>\n",
       "      <td>There really should be a large warning on the ...</td>\n",
       "      <td>1</td>\n",
       "      <td>{'quite': 1, 'baby': 2, 'latex': 4, 'easily': ...</td>\n",
       "      <td>0.986719</td>\n",
       "    </tr>\n",
       "    <tr>\n",
       "      <th>34316</th>\n",
       "      <td>Vulli Sophie the Giraffe Teether</td>\n",
       "      <td>All the moms in my moms\\' group got Sophie for...</td>\n",
       "      <td>5</td>\n",
       "      <td>{'daughter': 1, 'another': 1, 'lost': 1, 'love...</td>\n",
       "      <td>0.991816</td>\n",
       "    </tr>\n",
       "    <tr>\n",
       "      <th>34317</th>\n",
       "      <td>Vulli Sophie the Giraffe Teether</td>\n",
       "      <td>I was a little skeptical on whether Sophie was...</td>\n",
       "      <td>5</td>\n",
       "      <td>{'day': 1, 'even': 2, 'take': 1, 'almost': 1, ...</td>\n",
       "      <td>0.998157</td>\n",
       "    </tr>\n",
       "  </tbody>\n",
       "</table>\n",
       "</div>"
      ],
      "text/plain": [
       "                                   name  \\\n",
       "34313  Vulli Sophie the Giraffe Teether   \n",
       "34314  Vulli Sophie the Giraffe Teether   \n",
       "34315  Vulli Sophie the Giraffe Teether   \n",
       "34316  Vulli Sophie the Giraffe Teether   \n",
       "34317  Vulli Sophie the Giraffe Teether   \n",
       "\n",
       "                                                  review  rating  \\\n",
       "34313  He likes chewing on all the parts especially t...       5   \n",
       "34314  My son loves this toy and fits great in the di...       5   \n",
       "34315  There really should be a large warning on the ...       1   \n",
       "34316  All the moms in my moms\\' group got Sophie for...       5   \n",
       "34317  I was a little skeptical on whether Sophie was...       5   \n",
       "\n",
       "                                              word_count  predicted_sentiment  \n",
       "34313  {'teething': 1, 'parts': 1, 'likes': 1, 'espec...             0.998094  \n",
       "34314  {'help': 1, 'clean': 1, 'right': 1, 'seems': 1...             0.972396  \n",
       "34315  {'quite': 1, 'baby': 2, 'latex': 4, 'easily': ...             0.986719  \n",
       "34316  {'daughter': 1, 'another': 1, 'lost': 1, 'love...             0.991816  \n",
       "34317  {'day': 1, 'even': 2, 'take': 1, 'almost': 1, ...             0.998157  "
      ]
     },
     "execution_count": 38,
     "metadata": {},
     "output_type": "execute_result"
    }
   ],
   "source": [
    "sophie.head()"
   ]
  },
  {
   "cell_type": "markdown",
   "metadata": {},
   "source": [
    "### Sort the reviews based on the predicted sentiment"
   ]
  },
  {
   "cell_type": "code",
   "execution_count": 53,
   "metadata": {
    "collapsed": true
   },
   "outputs": [],
   "source": [
    "sophie_sorted = sophie.sort_values(\"predicted_sentiment\",ascending=False)"
   ]
  },
  {
   "cell_type": "code",
   "execution_count": 57,
   "metadata": {
    "collapsed": false
   },
   "outputs": [
    {
     "data": {
      "text/html": [
       "<div>\n",
       "<table border=\"1\" class=\"dataframe\">\n",
       "  <thead>\n",
       "    <tr style=\"text-align: right;\">\n",
       "      <th></th>\n",
       "      <th>name</th>\n",
       "      <th>review</th>\n",
       "      <th>rating</th>\n",
       "      <th>word_count</th>\n",
       "      <th>predicted_sentiment</th>\n",
       "    </tr>\n",
       "  </thead>\n",
       "  <tbody>\n",
       "    <tr>\n",
       "      <th>34792</th>\n",
       "      <td>Vulli Sophie the Giraffe Teether</td>\n",
       "      <td>I am very angry to find out that this teether ...</td>\n",
       "      <td>1</td>\n",
       "      <td>{'find': 1, 'pink': 1, 'however': 1, 'totally'...</td>\n",
       "      <td>1.0</td>\n",
       "    </tr>\n",
       "    <tr>\n",
       "      <th>34840</th>\n",
       "      <td>Vulli Sophie the Giraffe Teether</td>\n",
       "      <td>My daughter is going through some MAJOR teethi...</td>\n",
       "      <td>3</td>\n",
       "      <td>{'daughter': 2, 'teething': 1, 'pre': 1, 'mont...</td>\n",
       "      <td>1.0</td>\n",
       "    </tr>\n",
       "    <tr>\n",
       "      <th>34606</th>\n",
       "      <td>Vulli Sophie the Giraffe Teether</td>\n",
       "      <td>sophie is a baby\\'s best friend.  cute, squeak...</td>\n",
       "      <td>5</td>\n",
       "      <td>{'squeaky': 1, 'drool': 1, 'chew': 1, 'baby': ...</td>\n",
       "      <td>1.0</td>\n",
       "    </tr>\n",
       "    <tr>\n",
       "      <th>34466</th>\n",
       "      <td>Vulli Sophie the Giraffe Teether</td>\n",
       "      <td>After getting this for my baby and after she s...</td>\n",
       "      <td>1</td>\n",
       "      <td>{'batch': 1, 'find': 1, 'distinguish': 1, 'run...</td>\n",
       "      <td>1.0</td>\n",
       "    </tr>\n",
       "    <tr>\n",
       "      <th>34538</th>\n",
       "      <td>Vulli Sophie the Giraffe Teether</td>\n",
       "      <td>As a new parent, we read all the reviews first...</td>\n",
       "      <td>2</td>\n",
       "      <td>{'drool': 1, 'case': 1, 'love': 1, 'bought': 1...</td>\n",
       "      <td>1.0</td>\n",
       "    </tr>\n",
       "  </tbody>\n",
       "</table>\n",
       "</div>"
      ],
      "text/plain": [
       "                                   name  \\\n",
       "34792  Vulli Sophie the Giraffe Teether   \n",
       "34840  Vulli Sophie the Giraffe Teether   \n",
       "34606  Vulli Sophie the Giraffe Teether   \n",
       "34466  Vulli Sophie the Giraffe Teether   \n",
       "34538  Vulli Sophie the Giraffe Teether   \n",
       "\n",
       "                                                  review  rating  \\\n",
       "34792  I am very angry to find out that this teether ...       1   \n",
       "34840  My daughter is going through some MAJOR teethi...       3   \n",
       "34606  sophie is a baby\\'s best friend.  cute, squeak...       5   \n",
       "34466  After getting this for my baby and after she s...       1   \n",
       "34538  As a new parent, we read all the reviews first...       2   \n",
       "\n",
       "                                              word_count  predicted_sentiment  \n",
       "34792  {'find': 1, 'pink': 1, 'however': 1, 'totally'...                  1.0  \n",
       "34840  {'daughter': 2, 'teething': 1, 'pre': 1, 'mont...                  1.0  \n",
       "34606  {'squeaky': 1, 'drool': 1, 'chew': 1, 'baby': ...                  1.0  \n",
       "34466  {'batch': 1, 'find': 1, 'distinguish': 1, 'run...                  1.0  \n",
       "34538  {'drool': 1, 'case': 1, 'love': 1, 'bought': 1...                  1.0  "
      ]
     },
     "execution_count": 57,
     "metadata": {},
     "output_type": "execute_result"
    }
   ],
   "source": [
    "sophie_sorted.head()"
   ]
  },
  {
   "cell_type": "code",
   "execution_count": 59,
   "metadata": {
    "collapsed": false
   },
   "outputs": [
    {
     "data": {
      "text/plain": [
       "\"After getting this for my baby and after she sucked a good amount of the paint off I read that amazon\\\\'s Sophie\\\\'s were fake.  I scoured the Internet looking for ways to distinguish the real Sophie\\\\'s from the fakes.  I found that this Sophie had the right markings, no obvious mistakes and came with one of the right lot or batch number so I chalked up the running eye paint to it being natural.  But then I saw Sophie\\\\'s in a local Children\\\\'s retail store and I realized mine was fake after all!  The real Sophie\\\\'s eyes do not smear when rubbed or sucked on.  The real Sophie was slightly more slender and toned looking.  She was more flexible, you can easily fold her over and squeeze her cheeks in making her squeak with very little pressure. Just tapping her on the body while she is laying down makes her squeak, whereas the fake Sophie is slightly stiffer so you have to deliberately squeeze her to make her squeak. Do not take the chance with these, find a local retailer through their OFFICIAL site, not a fake Sophie website and order through them!  www.vulli-toys.com is the site on the box.  Hope this helps!\""
      ]
     },
     "execution_count": 59,
     "metadata": {},
     "output_type": "execute_result"
    }
   ],
   "source": [
    "sophie_sorted.loc[34466,\"review\"]"
   ]
  },
  {
   "cell_type": "code",
   "execution_count": 60,
   "metadata": {
    "collapsed": false
   },
   "outputs": [
    {
     "data": {
      "text/plain": [
       "\"After getting this for my baby and after she sucked a good amount of the paint off I read that amazon\\\\'s Sophie\\\\'s were fake.  I scoured the Internet looking for ways to distinguish the real Sophie\\\\'s from the fakes.  I found that this Sophie had the right markings, no obvious mistakes and came with one of the right lot or batch number so I chalked up the running eye paint to it being natural.  But then I saw Sophie\\\\'s in a local Children\\\\'s retail store and I realized mine was fake after all!  The real Sophie\\\\'s eyes do not smear when rubbed or sucked on.  The real Sophie was slightly more slender and toned looking.  She was more flexible, you can easily fold her over and squeeze her cheeks in making her squeak with very little pressure. Just tapping her on the body while she is laying down makes her squeak, whereas the fake Sophie is slightly stiffer so you have to deliberately squeeze her to make her squeak. Do not take the chance with these, find a local retailer through their OFFICIAL site, not a fake Sophie website and order through them!  www.vulli-toys.com is the site on the box.  Hope this helps!\""
      ]
     },
     "execution_count": 60,
     "metadata": {},
     "output_type": "execute_result"
    }
   ],
   "source": [
    "products.loc[34466,\"review\"]"
   ]
  },
  {
   "cell_type": "code",
   "execution_count": 61,
   "metadata": {
    "collapsed": false
   },
   "outputs": [
    {
     "data": {
      "text/plain": [
       "\"{'batch': 1, 'find': 1, 'distinguish': 1, 'running': 1, 'children': 1, 'internet': 1, 'smear': 1, 'eye': 1, 'read': 1, 'markings': 1, 'fake': 4, 'eyes': 1, 'retailer': 1, 'makes': 1, 'tapping': 1, 'site': 2, 'cheeks': 1, 'slender': 1, 'realized': 1, 'little': 1, 'amount': 1, 'obvious': 1, 'pressure': 1, 'fakes': 1, 'making': 1, 'easily': 1, 'number': 1, 'paint': 2, 'official': 1, 'natural': 1, 'hope': 1, 'website': 1, 'toys': 1, 'squeeze': 2, 'amazon': 1, 'make': 1, 'getting': 1, 'ways': 1, 'looking': 2, 'store': 1, 'local': 2, 'take': 1, 'flexible': 1, 'deliberately': 1, 'came': 1, 'laying': 1, 'slightly': 2, 'sucked': 2, 'good': 1, 'squeak': 3, 'one': 1, 'box': 1, 'chance': 1, 'vulli': 1, 'retail': 1, 'www': 1, 'mistakes': 1, 'right': 2, 'rubbed': 1, 'fold': 1, 'whereas': 1, 'toned': 1, 'baby': 1, 'sophie': 8, 'stiffer': 1, 'order': 1, 'body': 1, 'helps': 1, 'chalked': 1, 'scoured': 1, 'found': 1, 'saw': 1, 'mine': 1, 'real': 3, 'com': 1, 'lot': 1}\""
      ]
     },
     "execution_count": 61,
     "metadata": {},
     "output_type": "execute_result"
    }
   ],
   "source": [
    "products.loc[34466,\"word_count\"]"
   ]
  },
  {
   "cell_type": "code",
   "execution_count": 58,
   "metadata": {
    "collapsed": false
   },
   "outputs": [
    {
     "data": {
      "text/plain": [
       "{'amazon': 1,\n",
       " 'amount': 1,\n",
       " 'baby': 1,\n",
       " 'batch': 1,\n",
       " 'body': 1,\n",
       " 'box': 1,\n",
       " 'came': 1,\n",
       " 'chance': 1,\n",
       " 'cheeks': 1,\n",
       " 'children': 1,\n",
       " 'com': 1,\n",
       " 'easily': 1,\n",
       " 'eye': 1,\n",
       " 'eyes': 1,\n",
       " 'fake': 4,\n",
       " 'find': 1,\n",
       " 'flexible': 1,\n",
       " 'fold': 1,\n",
       " 'found': 1,\n",
       " 'getting': 1,\n",
       " 'good': 1,\n",
       " 'helps': 1,\n",
       " 'hope': 1,\n",
       " 'internet': 1,\n",
       " 'laying': 1,\n",
       " 'little': 1,\n",
       " 'local': 2,\n",
       " 'looking': 2,\n",
       " 'lot': 1,\n",
       " 'make': 1,\n",
       " 'makes': 1,\n",
       " 'making': 1,\n",
       " 'markings': 1,\n",
       " 'mine': 1,\n",
       " 'natural': 1,\n",
       " 'number': 1,\n",
       " 'obvious': 1,\n",
       " 'one': 1,\n",
       " 'order': 1,\n",
       " 'paint': 2,\n",
       " 'pressure': 1,\n",
       " 'read': 1,\n",
       " 'real': 3,\n",
       " 'realized': 1,\n",
       " 'retail': 1,\n",
       " 'retailer': 1,\n",
       " 'right': 2,\n",
       " 'rubbed': 1,\n",
       " 'running': 1,\n",
       " 'saw': 1,\n",
       " 'site': 2,\n",
       " 'slightly': 2,\n",
       " 'sophie': 8,\n",
       " 'squeak': 3,\n",
       " 'squeeze': 2,\n",
       " 'store': 1,\n",
       " 'sucked': 2,\n",
       " 'take': 1,\n",
       " 'toys': 1,\n",
       " 'ways': 1,\n",
       " 'website': 1,\n",
       " 'whereas': 1,\n",
       " 'www': 1}"
      ]
     },
     "execution_count": 58,
     "metadata": {},
     "output_type": "execute_result"
    }
   ],
   "source": [
    "bagofwords_df[34466]"
   ]
  },
  {
   "cell_type": "markdown",
   "metadata": {},
   "source": [
    "# -------------"
   ]
  },
  {
   "cell_type": "markdown",
   "metadata": {},
   "source": [
    "**words_count** is a sparse matrix, let's transform it to a numpy array for creating a \"word_count\" column as in the course"
   ]
  },
  {
   "cell_type": "code",
   "execution_count": 39,
   "metadata": {
    "collapsed": false
   },
   "outputs": [
    {
     "name": "stdout",
     "output_type": "stream",
     "text": [
      "Wall time: 848 ms\n"
     ]
    }
   ],
   "source": [
    "%%time\n",
    "words_count_a = words_count.toarray()"
   ]
  },
  {
   "cell_type": "code",
   "execution_count": 40,
   "metadata": {
    "collapsed": false
   },
   "outputs": [
    {
     "data": {
      "text/plain": [
       "(166752, 5000)"
      ]
     },
     "execution_count": 40,
     "metadata": {},
     "output_type": "execute_result"
    }
   ],
   "source": [
    "words_count_a.shape"
   ]
  },
  {
   "cell_type": "markdown",
   "metadata": {},
   "source": [
    "### Transform sklearn bag of words\n",
    "Our bag of words is created (**words\\_count** in association with the vocabulary learned by CountVectorizer instance, i.e. **vectorizer.vocabulary_**), but let's do some transformation to reproduce the course notebook (additional column with bag of words as a dictionnary for each review)."
   ]
  },
  {
   "cell_type": "code",
   "execution_count": 41,
   "metadata": {
    "collapsed": true
   },
   "outputs": [],
   "source": [
    "def to_dict(review):\n",
    "    dic = pd.DataFrame(vectorizer.get_feature_names(), columns = [\"vocabulary\"])\n",
    "    dic.insert(1,\"count\",review.reshape(-1,1))\n",
    "    dic = dic[dic[\"count\"]>0]\n",
    "    i = iter(dic.to_dict(orient=\"split\")[\"data\"])\n",
    "    return{k:v for k,v in i}"
   ]
  },
  {
   "cell_type": "code",
   "execution_count": 42,
   "metadata": {
    "collapsed": false
   },
   "outputs": [
    {
     "name": "stdout",
     "output_type": "stream",
     "text": [
      "Wall time: 10min 16s\n"
     ]
    }
   ],
   "source": [
    "%%time\n",
    "bagofwords_df = pd.DataFrame(words_count_a,products.index).apply(to_dict, axis=1)"
   ]
  },
  {
   "cell_type": "code",
   "execution_count": null,
   "metadata": {
    "collapsed": true
   },
   "outputs": [],
   "source": []
  }
 ],
 "metadata": {
  "kernelspec": {
   "display_name": "Python 3",
   "language": "python",
   "name": "python3"
  },
  "language_info": {
   "codemirror_mode": {
    "name": "ipython",
    "version": 3
   },
   "file_extension": ".py",
   "mimetype": "text/x-python",
   "name": "python",
   "nbconvert_exporter": "python",
   "pygments_lexer": "ipython3",
   "version": "3.5.1"
  }
 },
 "nbformat": 4,
 "nbformat_minor": 0
}
