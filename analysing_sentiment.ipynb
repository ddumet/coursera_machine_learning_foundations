{
 "cells": [
  {
   "cell_type": "markdown",
   "metadata": {},
   "source": [
    "# Predicting sentiments from product reviews\n",
    "The dataset used in this notebook can be found here [amazon_baby.csv](https://d396qusza40orc.cloudfront.net/phoenixassets/amazon_baby.csv)"
   ]
  },
  {
   "cell_type": "code",
   "execution_count": 1,
   "metadata": {
    "collapsed": false
   },
   "outputs": [],
   "source": [
    "import pandas as pd\n",
    "import numpy as np\n",
    "%matplotlib inline"
   ]
  },
  {
   "cell_type": "markdown",
   "metadata": {},
   "source": [
    "Import necessary package for words preprocessing (cleaning text):\n",
    "- Import re (regular expression, for removing punctuation)\n",
    "- Import nltk and download stopwords corpus (remove stopwords such as \"and\", \"the\", etc)"
   ]
  },
  {
   "cell_type": "code",
   "execution_count": 2,
   "metadata": {
    "collapsed": false
   },
   "outputs": [],
   "source": [
    "import re, collections\n",
    "import nltk\n",
    "#nltk.download()\n",
    "from nltk.corpus import stopwords"
   ]
  },
  {
   "cell_type": "code",
   "execution_count": 3,
   "metadata": {
    "collapsed": false
   },
   "outputs": [],
   "source": [
    "from sklearn.feature_extraction.text import CountVectorizer"
   ]
  },
  {
   "cell_type": "code",
   "execution_count": 4,
   "metadata": {
    "collapsed": false
   },
   "outputs": [],
   "source": [
    "products = pd.read_csv(\"./data/amazon_baby.csv\")"
   ]
  },
  {
   "cell_type": "markdown",
   "metadata": {},
   "source": [
    "## A bit of data exploration"
   ]
  },
  {
   "cell_type": "code",
   "execution_count": 5,
   "metadata": {
    "collapsed": false
   },
   "outputs": [
    {
     "data": {
      "text/html": [
       "<div>\n",
       "<table border=\"1\" class=\"dataframe\">\n",
       "  <thead>\n",
       "    <tr style=\"text-align: right;\">\n",
       "      <th></th>\n",
       "      <th>name</th>\n",
       "      <th>review</th>\n",
       "      <th>rating</th>\n",
       "    </tr>\n",
       "  </thead>\n",
       "  <tbody>\n",
       "    <tr>\n",
       "      <th>0</th>\n",
       "      <td>Planetwise Flannel Wipes</td>\n",
       "      <td>These flannel wipes are OK, but in my opinion ...</td>\n",
       "      <td>3</td>\n",
       "    </tr>\n",
       "    <tr>\n",
       "      <th>1</th>\n",
       "      <td>Planetwise Wipe Pouch</td>\n",
       "      <td>it came early and was not disappointed. i love...</td>\n",
       "      <td>5</td>\n",
       "    </tr>\n",
       "    <tr>\n",
       "      <th>2</th>\n",
       "      <td>Annas Dream Full Quilt with 2 Shams</td>\n",
       "      <td>Very soft and comfortable and warmer than it l...</td>\n",
       "      <td>5</td>\n",
       "    </tr>\n",
       "    <tr>\n",
       "      <th>3</th>\n",
       "      <td>Stop Pacifier Sucking without tears with Thumb...</td>\n",
       "      <td>This is a product well worth the purchase.  I ...</td>\n",
       "      <td>5</td>\n",
       "    </tr>\n",
       "    <tr>\n",
       "      <th>4</th>\n",
       "      <td>Stop Pacifier Sucking without tears with Thumb...</td>\n",
       "      <td>All of my kids have cried non-stop when I trie...</td>\n",
       "      <td>5</td>\n",
       "    </tr>\n",
       "  </tbody>\n",
       "</table>\n",
       "</div>"
      ],
      "text/plain": [
       "                                                name  \\\n",
       "0                           Planetwise Flannel Wipes   \n",
       "1                              Planetwise Wipe Pouch   \n",
       "2                Annas Dream Full Quilt with 2 Shams   \n",
       "3  Stop Pacifier Sucking without tears with Thumb...   \n",
       "4  Stop Pacifier Sucking without tears with Thumb...   \n",
       "\n",
       "                                              review  rating  \n",
       "0  These flannel wipes are OK, but in my opinion ...       3  \n",
       "1  it came early and was not disappointed. i love...       5  \n",
       "2  Very soft and comfortable and warmer than it l...       5  \n",
       "3  This is a product well worth the purchase.  I ...       5  \n",
       "4  All of my kids have cried non-stop when I trie...       5  "
      ]
     },
     "execution_count": 5,
     "metadata": {},
     "output_type": "execute_result"
    }
   ],
   "source": [
    "products.head(5)"
   ]
  },
  {
   "cell_type": "code",
   "execution_count": 6,
   "metadata": {
    "collapsed": false
   },
   "outputs": [
    {
     "data": {
      "text/plain": [
       "name      183213\n",
       "review    182702\n",
       "rating    183531\n",
       "dtype: int64"
      ]
     },
     "execution_count": 6,
     "metadata": {},
     "output_type": "execute_result"
    }
   ],
   "source": [
    "products.count()"
   ]
  },
  {
   "cell_type": "markdown",
   "metadata": {
    "collapsed": false
   },
   "source": [
    "Some reviews are obviously **missing (NaN)**. Replace NaN reviews with \" \" to avoid errors when processing texts later on."
   ]
  },
  {
   "cell_type": "code",
   "execution_count": 7,
   "metadata": {
    "collapsed": true
   },
   "outputs": [],
   "source": [
    "products[\"review\"].fillna(\" \",inplace=True)"
   ]
  },
  {
   "cell_type": "markdown",
   "metadata": {},
   "source": [
    "## Create bag of words for reviews"
   ]
  },
  {
   "cell_type": "markdown",
   "metadata": {},
   "source": [
    "### Clean the reviews first\n",
    "- Remove punctuation (using regular expression)\n",
    "- Change review to lowercase only and split text in words\n",
    "- (optionally remove stop words. This is not done in the course)\n",
    "- Finally Put all reviews in a list (reviews)"
   ]
  },
  {
   "cell_type": "code",
   "execution_count": 8,
   "metadata": {
    "collapsed": true
   },
   "outputs": [],
   "source": [
    "def clean_review(raw_review, stopswrd):\n",
    "    review = re.sub(\"[^a-zA-Z]\",\" \",raw_review)\n",
    "    review = review.lower().split()\n",
    "    #review = [w for w in review if not w in stopswrd]\n",
    "    return(\" \".join(review))"
   ]
  },
  {
   "cell_type": "code",
   "execution_count": 9,
   "metadata": {
    "collapsed": false
   },
   "outputs": [],
   "source": [
    "stopswrd = set(stopwords.words(\"english\"))"
   ]
  },
  {
   "cell_type": "code",
   "execution_count": 10,
   "metadata": {
    "collapsed": false
   },
   "outputs": [],
   "source": [
    "reviews = []\n",
    "num_reviews = products.shape[0]"
   ]
  },
  {
   "cell_type": "code",
   "execution_count": 11,
   "metadata": {
    "collapsed": false
   },
   "outputs": [],
   "source": [
    "for i in range(0,num_reviews):\n",
    "    reviews.append(clean_review(products[\"review\"][i],stopswrd))"
   ]
  },
  {
   "cell_type": "markdown",
   "metadata": {},
   "source": [
    "### The bag of words\n",
    "Create a data frame containing bag of words for each review and add the column to the **products** DataFrame."
   ]
  },
  {
   "cell_type": "code",
   "execution_count": 12,
   "metadata": {
    "collapsed": false
   },
   "outputs": [
    {
     "name": "stdout",
     "output_type": "stream",
     "text": [
      "Wall time: 10.6 s\n"
     ]
    }
   ],
   "source": [
    "%%time\n",
    "bagofwords = pd.DataFrame((str(dict(collections.Counter(re.findall(r\"\\w+\", txt)))) for txt in reviews),columns=[\"word_count\"])"
   ]
  },
  {
   "cell_type": "code",
   "execution_count": 13,
   "metadata": {
    "collapsed": false
   },
   "outputs": [],
   "source": [
    "products.insert(len(products.columns),\"word_count\",bagofwords)"
   ]
  },
  {
   "cell_type": "code",
   "execution_count": 14,
   "metadata": {
    "collapsed": false
   },
   "outputs": [
    {
     "data": {
      "text/html": [
       "<div>\n",
       "<table border=\"1\" class=\"dataframe\">\n",
       "  <thead>\n",
       "    <tr style=\"text-align: right;\">\n",
       "      <th></th>\n",
       "      <th>name</th>\n",
       "      <th>review</th>\n",
       "      <th>rating</th>\n",
       "      <th>word_count</th>\n",
       "    </tr>\n",
       "  </thead>\n",
       "  <tbody>\n",
       "    <tr>\n",
       "      <th>0</th>\n",
       "      <td>Planetwise Flannel Wipes</td>\n",
       "      <td>These flannel wipes are OK, but in my opinion ...</td>\n",
       "      <td>3</td>\n",
       "      <td>{'boyfor': 1, 'texture': 1, 'that': 1, 'been':...</td>\n",
       "    </tr>\n",
       "    <tr>\n",
       "      <th>1</th>\n",
       "      <td>Planetwise Wipe Pouch</td>\n",
       "      <td>it came early and was not disappointed. i love...</td>\n",
       "      <td>5</td>\n",
       "      <td>{'love': 1, 'keps': 1, 'my': 2, 'wipe': 1, 'ba...</td>\n",
       "    </tr>\n",
       "    <tr>\n",
       "      <th>2</th>\n",
       "      <td>Annas Dream Full Quilt with 2 Shams</td>\n",
       "      <td>Very soft and comfortable and warmer than it l...</td>\n",
       "      <td>5</td>\n",
       "      <td>{'type': 1, 'warmer': 1, 'full': 1, 'looking':...</td>\n",
       "    </tr>\n",
       "    <tr>\n",
       "      <th>3</th>\n",
       "      <td>Stop Pacifier Sucking without tears with Thumb...</td>\n",
       "      <td>This is a product well worth the purchase.  I ...</td>\n",
       "      <td>5</td>\n",
       "      <td>{'love': 2, 'found': 1, 'what': 1, 'ingenious'...</td>\n",
       "    </tr>\n",
       "    <tr>\n",
       "      <th>4</th>\n",
       "      <td>Stop Pacifier Sucking without tears with Thumb...</td>\n",
       "      <td>All of my kids have cried non-stop when I trie...</td>\n",
       "      <td>5</td>\n",
       "      <td>{'love': 1, 'help': 1, 'buy': 1, 'way': 1, 'we...</td>\n",
       "    </tr>\n",
       "  </tbody>\n",
       "</table>\n",
       "</div>"
      ],
      "text/plain": [
       "                                                name  \\\n",
       "0                           Planetwise Flannel Wipes   \n",
       "1                              Planetwise Wipe Pouch   \n",
       "2                Annas Dream Full Quilt with 2 Shams   \n",
       "3  Stop Pacifier Sucking without tears with Thumb...   \n",
       "4  Stop Pacifier Sucking without tears with Thumb...   \n",
       "\n",
       "                                              review  rating  \\\n",
       "0  These flannel wipes are OK, but in my opinion ...       3   \n",
       "1  it came early and was not disappointed. i love...       5   \n",
       "2  Very soft and comfortable and warmer than it l...       5   \n",
       "3  This is a product well worth the purchase.  I ...       5   \n",
       "4  All of my kids have cried non-stop when I trie...       5   \n",
       "\n",
       "                                          word_count  \n",
       "0  {'boyfor': 1, 'texture': 1, 'that': 1, 'been':...  \n",
       "1  {'love': 1, 'keps': 1, 'my': 2, 'wipe': 1, 'ba...  \n",
       "2  {'type': 1, 'warmer': 1, 'full': 1, 'looking':...  \n",
       "3  {'love': 2, 'found': 1, 'what': 1, 'ingenious'...  \n",
       "4  {'love': 1, 'help': 1, 'buy': 1, 'way': 1, 'we...  "
      ]
     },
     "execution_count": 14,
     "metadata": {},
     "output_type": "execute_result"
    }
   ],
   "source": [
    "products.head(5)"
   ]
  },
  {
   "cell_type": "code",
   "execution_count": 17,
   "metadata": {
    "collapsed": false
   },
   "outputs": [],
   "source": [
    "data = products[[\"name\",\"review\"]]"
   ]
  },
  {
   "cell_type": "code",
   "execution_count": 22,
   "metadata": {
    "collapsed": false
   },
   "outputs": [
    {
     "data": {
      "text/html": [
       "<div>\n",
       "<table border=\"1\" class=\"dataframe\">\n",
       "  <thead>\n",
       "    <tr style=\"text-align: right;\">\n",
       "      <th></th>\n",
       "      <th>review</th>\n",
       "    </tr>\n",
       "    <tr>\n",
       "      <th>name</th>\n",
       "      <th></th>\n",
       "    </tr>\n",
       "  </thead>\n",
       "  <tbody>\n",
       "    <tr>\n",
       "      <th>Vulli Sophie the Giraffe Teether</th>\n",
       "      <td>785</td>\n",
       "    </tr>\n",
       "    <tr>\n",
       "      <th>Simple Wishes Hands-Free Breastpump Bra, Pink, XS-L</th>\n",
       "      <td>562</td>\n",
       "    </tr>\n",
       "    <tr>\n",
       "      <th>Infant Optics DXR-5 2.4 GHz Digital Video Baby Monitor with Night Vision</th>\n",
       "      <td>561</td>\n",
       "    </tr>\n",
       "    <tr>\n",
       "      <th>Baby Einstein Take Along Tunes</th>\n",
       "      <td>547</td>\n",
       "    </tr>\n",
       "    <tr>\n",
       "      <th>Cloud b Twilight Constellation Night Light, Turtle</th>\n",
       "      <td>520</td>\n",
       "    </tr>\n",
       "    <tr>\n",
       "      <th>Fisher-Price Booster Seat, Blue/Green/Gray</th>\n",
       "      <td>489</td>\n",
       "    </tr>\n",
       "    <tr>\n",
       "      <th>Fisher-Price Rainforest Jumperoo</th>\n",
       "      <td>450</td>\n",
       "    </tr>\n",
       "    <tr>\n",
       "      <th>Graco Nautilus 3-in-1 Car Seat, Matrix</th>\n",
       "      <td>419</td>\n",
       "    </tr>\n",
       "    <tr>\n",
       "      <th>Leachco Snoogle Total Body Pillow</th>\n",
       "      <td>388</td>\n",
       "    </tr>\n",
       "    <tr>\n",
       "      <th>Regalo Easy Step Walk Thru Gate, White</th>\n",
       "      <td>374</td>\n",
       "    </tr>\n",
       "    <tr>\n",
       "      <th>Baby Trend Diaper Champ</th>\n",
       "      <td>333</td>\n",
       "    </tr>\n",
       "    <tr>\n",
       "      <th>Skip Hop Zoo Pack Little Kid Backpack, Dog</th>\n",
       "      <td>286</td>\n",
       "    </tr>\n",
       "    <tr>\n",
       "      <th>The First Years Jet Stroller, Red/Black</th>\n",
       "      <td>284</td>\n",
       "    </tr>\n",
       "    <tr>\n",
       "      <th>NTM-910YIC - Sony Baby Call Nursery Monitor</th>\n",
       "      <td>284</td>\n",
       "    </tr>\n",
       "    <tr>\n",
       "      <th>Leachco Back \\'N Belly Contoured Body Pillow, Ivory</th>\n",
       "      <td>283</td>\n",
       "    </tr>\n",
       "    <tr>\n",
       "      <th>North States Superyard Play Yard, Grey, 6 Panel</th>\n",
       "      <td>281</td>\n",
       "    </tr>\n",
       "    <tr>\n",
       "      <th>Fisher-Price Cradle \\'N Swing,  My Little Snugabunny</th>\n",
       "      <td>278</td>\n",
       "    </tr>\n",
       "    <tr>\n",
       "      <th>Munchkin Nursery Projector and Sound System, White</th>\n",
       "      <td>242</td>\n",
       "    </tr>\n",
       "    <tr>\n",
       "      <th>Tiny Love Take-Along Arch, Sunny Stroll</th>\n",
       "      <td>241</td>\n",
       "    </tr>\n",
       "    <tr>\n",
       "      <th>Regalo Easy Open 50 Inch Super Wide Walk Thru Gate - White</th>\n",
       "      <td>238</td>\n",
       "    </tr>\n",
       "    <tr>\n",
       "      <th>Fisher-Price Newborn Rock \\'n Play Sleeper, Yellow</th>\n",
       "      <td>236</td>\n",
       "    </tr>\n",
       "    <tr>\n",
       "      <th>VTech Communications Safe &amp;amp; Sound Digital Audio Monitor</th>\n",
       "      <td>233</td>\n",
       "    </tr>\n",
       "    <tr>\n",
       "      <th>Fisher-Price Rainforest Melodies and Lights Deluxe Gym</th>\n",
       "      <td>232</td>\n",
       "    </tr>\n",
       "    <tr>\n",
       "      <th>BABYBJORN Potty Chair - Red</th>\n",
       "      <td>232</td>\n",
       "    </tr>\n",
       "    <tr>\n",
       "      <th>The First Year\\'s Infant To Toddler Tub with Sling, Blue</th>\n",
       "      <td>230</td>\n",
       "    </tr>\n",
       "    <tr>\n",
       "      <th>Thermos Foogo Leak-Proof Stainless Steel 10-Ounce Food Jar, Pink</th>\n",
       "      <td>226</td>\n",
       "    </tr>\n",
       "    <tr>\n",
       "      <th>Summer Infant Multi-Use Deco Extra Tall Walk-Thru Gate, Bronze</th>\n",
       "      <td>219</td>\n",
       "    </tr>\n",
       "    <tr>\n",
       "      <th>The First Years Ignite Stroller</th>\n",
       "      <td>218</td>\n",
       "    </tr>\n",
       "    <tr>\n",
       "      <th>Fisher-Price Infant-To-Toddler Rocker, Blue/Green</th>\n",
       "      <td>217</td>\n",
       "    </tr>\n",
       "    <tr>\n",
       "      <th>Prince Lionheart Jumbo Toy Hammock</th>\n",
       "      <td>217</td>\n",
       "    </tr>\n",
       "    <tr>\n",
       "      <th>...</th>\n",
       "      <td>...</td>\n",
       "    </tr>\n",
       "    <tr>\n",
       "      <th>Bummis Tots Bots Easy Fit Pocket Diaper, Blueberry, 8-35 Pounds</th>\n",
       "      <td>1</td>\n",
       "    </tr>\n",
       "    <tr>\n",
       "      <th>Nuby Barbell Teether Toy</th>\n",
       "      <td>1</td>\n",
       "    </tr>\n",
       "    <tr>\n",
       "      <th>I Am Your Father\\'s Day Present Funny Baby Bodysuit (6-9M Bodysuit, Pink)</th>\n",
       "      <td>1</td>\n",
       "    </tr>\n",
       "    <tr>\n",
       "      <th>Hypoallergenic Treated Pillow Case Protector - Pack of 12, Queen</th>\n",
       "      <td>1</td>\n",
       "    </tr>\n",
       "    <tr>\n",
       "      <th>Disney Tigger Teether and Rattle Blankie</th>\n",
       "      <td>1</td>\n",
       "    </tr>\n",
       "    <tr>\n",
       "      <th>Bummis Tots Bots Bamboozle Stretch Diaper, Size 2 (9-35 Pounds)</th>\n",
       "      <td>1</td>\n",
       "    </tr>\n",
       "    <tr>\n",
       "      <th>Hygeia Universal Personal Accessory Set</th>\n",
       "      <td>1</td>\n",
       "    </tr>\n",
       "    <tr>\n",
       "      <th>Hygeia Spare Parts Kit</th>\n",
       "      <td>1</td>\n",
       "    </tr>\n",
       "    <tr>\n",
       "      <th>Bummis Terry Doubler with Stay Dry Liner</th>\n",
       "      <td>1</td>\n",
       "    </tr>\n",
       "    <tr>\n",
       "      <th>Bummis Super Whisper Wrap Diaper Cover: Newborn (7-10lbs)</th>\n",
       "      <td>1</td>\n",
       "    </tr>\n",
       "    <tr>\n",
       "      <th>Hygeia Q (Enricheq) Double Electric Breast Pump with Brown Tote</th>\n",
       "      <td>1</td>\n",
       "    </tr>\n",
       "    <tr>\n",
       "      <th>Hygeia Mother\\'s Milk 3ct Storage Containers 4oz</th>\n",
       "      <td>1</td>\n",
       "    </tr>\n",
       "    <tr>\n",
       "      <th>Hygeia Expression Cup</th>\n",
       "      <td>1</td>\n",
       "    </tr>\n",
       "    <tr>\n",
       "      <th>Hygeia EnJoye LBI Breast Pump, Breastpump, Black Bag, QTY: 1</th>\n",
       "      <td>1</td>\n",
       "    </tr>\n",
       "    <tr>\n",
       "      <th>Nuby 6-Piece Medical Kit Safe &amp;amp; Easy way to Dispense Medicine or Vitamins to Baby, LIGHT-BLUE</th>\n",
       "      <td>1</td>\n",
       "    </tr>\n",
       "    <tr>\n",
       "      <th>Hygeia EnJoye LBI Breast Pump with Brown Tote Set</th>\n",
       "      <td>1</td>\n",
       "    </tr>\n",
       "    <tr>\n",
       "      <th>Nuby 7-Piece Medical Kit</th>\n",
       "      <td>1</td>\n",
       "    </tr>\n",
       "    <tr>\n",
       "      <th>Disney Tinker Bell Frame Carpet</th>\n",
       "      <td>1</td>\n",
       "    </tr>\n",
       "    <tr>\n",
       "      <th>Hygeia EnJoye Breast Pump with Internal Battery</th>\n",
       "      <td>1</td>\n",
       "    </tr>\n",
       "    <tr>\n",
       "      <th>Nuby 9 oz Insulated No-Spill Flip It</th>\n",
       "      <td>1</td>\n",
       "    </tr>\n",
       "    <tr>\n",
       "      <th>Bummis Super Snap Diaper Cover: Large (30-40 lbs).</th>\n",
       "      <td>1</td>\n",
       "    </tr>\n",
       "    <tr>\n",
       "      <th>Hygeia Duckbill Valves - Pack of 6</th>\n",
       "      <td>1</td>\n",
       "    </tr>\n",
       "    <tr>\n",
       "      <th>Nuby BPA FREE Gripper Cup Girl Colors - 2-pk</th>\n",
       "      <td>1</td>\n",
       "    </tr>\n",
       "    <tr>\n",
       "      <th>Bummis Organic Pre-Fold Diapers 6pack Medium 15-40lbs</th>\n",
       "      <td>1</td>\n",
       "    </tr>\n",
       "    <tr>\n",
       "      <th>Nuby BPA FREE No-Spill Cup w/ Soft Spout &amp;amp; Handles, 1-pk, Boy Colors</th>\n",
       "      <td>1</td>\n",
       "    </tr>\n",
       "    <tr>\n",
       "      <th>Nuby BPA FREE No-Spill Insulated Cool Sipper Cup - 9 oz - girl colors</th>\n",
       "      <td>1</td>\n",
       "    </tr>\n",
       "    <tr>\n",
       "      <th>Bummis Fitted Bamboozle (Bamboo) Diaper - Size 2 (10-35lbs)</th>\n",
       "      <td>1</td>\n",
       "    </tr>\n",
       "    <tr>\n",
       "      <th>Bummis Fabulous Wet Bags - Small - Blue</th>\n",
       "      <td>1</td>\n",
       "    </tr>\n",
       "    <tr>\n",
       "      <th>Nuby Baby Care Nail Clippers, Colors may vary</th>\n",
       "      <td>1</td>\n",
       "    </tr>\n",
       "    <tr>\n",
       "      <th>Evenflo Snugli Seated Military Baby Carrier</th>\n",
       "      <td>1</td>\n",
       "    </tr>\n",
       "  </tbody>\n",
       "</table>\n",
       "<p>32417 rows × 1 columns</p>\n",
       "</div>"
      ],
      "text/plain": [
       "                                                    review\n",
       "name                                                      \n",
       "Vulli Sophie the Giraffe Teether                       785\n",
       "Simple Wishes Hands-Free Breastpump Bra, Pink, ...     562\n",
       "Infant Optics DXR-5 2.4 GHz Digital Video Baby ...     561\n",
       "Baby Einstein Take Along Tunes                         547\n",
       "Cloud b Twilight Constellation Night Light, Turtle     520\n",
       "Fisher-Price Booster Seat, Blue/Green/Gray             489\n",
       "Fisher-Price Rainforest Jumperoo                       450\n",
       "Graco Nautilus 3-in-1 Car Seat, Matrix                 419\n",
       "Leachco Snoogle Total Body Pillow                      388\n",
       "Regalo Easy Step Walk Thru Gate, White                 374\n",
       "Baby Trend Diaper Champ                                333\n",
       "Skip Hop Zoo Pack Little Kid Backpack, Dog             286\n",
       "The First Years Jet Stroller, Red/Black                284\n",
       "NTM-910YIC - Sony Baby Call Nursery Monitor            284\n",
       "Leachco Back \\'N Belly Contoured Body Pillow, I...     283\n",
       "North States Superyard Play Yard, Grey, 6 Panel        281\n",
       "Fisher-Price Cradle \\'N Swing,  My Little Snuga...     278\n",
       "Munchkin Nursery Projector and Sound System, White     242\n",
       "Tiny Love Take-Along Arch, Sunny Stroll                241\n",
       "Regalo Easy Open 50 Inch Super Wide Walk Thru G...     238\n",
       "Fisher-Price Newborn Rock \\'n Play Sleeper, Yellow     236\n",
       "VTech Communications Safe &amp; Sound Digital A...     233\n",
       "Fisher-Price Rainforest Melodies and Lights Del...     232\n",
       "BABYBJORN Potty Chair - Red                            232\n",
       "The First Year\\'s Infant To Toddler Tub with Sl...     230\n",
       "Thermos Foogo Leak-Proof Stainless Steel 10-Oun...     226\n",
       "Summer Infant Multi-Use Deco Extra Tall Walk-Th...     219\n",
       "The First Years Ignite Stroller                        218\n",
       "Fisher-Price Infant-To-Toddler Rocker, Blue/Green      217\n",
       "Prince Lionheart Jumbo Toy Hammock                     217\n",
       "...                                                    ...\n",
       "Bummis Tots Bots Easy Fit Pocket Diaper, Bluebe...       1\n",
       "Nuby Barbell Teether Toy                                 1\n",
       "I Am Your Father\\'s Day Present Funny Baby Body...       1\n",
       "Hypoallergenic Treated Pillow Case Protector - ...       1\n",
       "Disney Tigger Teether and Rattle Blankie                 1\n",
       "Bummis Tots Bots Bamboozle Stretch Diaper, Size...       1\n",
       "Hygeia Universal Personal Accessory Set                  1\n",
       "Hygeia Spare Parts Kit                                   1\n",
       "Bummis Terry Doubler with Stay Dry Liner                 1\n",
       "Bummis Super Whisper Wrap Diaper Cover: Newborn...       1\n",
       "Hygeia Q (Enricheq) Double Electric Breast Pump...       1\n",
       "Hygeia Mother\\'s Milk 3ct Storage Containers 4oz         1\n",
       "Hygeia Expression Cup                                    1\n",
       "Hygeia EnJoye LBI Breast Pump, Breastpump, Blac...       1\n",
       "Nuby 6-Piece Medical Kit Safe &amp; Easy way to...       1\n",
       "Hygeia EnJoye LBI Breast Pump with Brown Tote Set        1\n",
       "Nuby 7-Piece Medical Kit                                 1\n",
       "Disney Tinker Bell Frame Carpet                          1\n",
       "Hygeia EnJoye Breast Pump with Internal Battery          1\n",
       "Nuby 9 oz Insulated No-Spill Flip It                     1\n",
       "Bummis Super Snap Diaper Cover: Large (30-40 lbs).       1\n",
       "Hygeia Duckbill Valves - Pack of 6                       1\n",
       "Nuby BPA FREE Gripper Cup Girl Colors - 2-pk             1\n",
       "Bummis Organic Pre-Fold Diapers 6pack Medium 15...       1\n",
       "Nuby BPA FREE No-Spill Cup w/ Soft Spout &amp; ...       1\n",
       "Nuby BPA FREE No-Spill Insulated Cool Sipper Cu...       1\n",
       "Bummis Fitted Bamboozle (Bamboo) Diaper - Size ...       1\n",
       "Bummis Fabulous Wet Bags - Small - Blue                  1\n",
       "Nuby Baby Care Nail Clippers, Colors may vary            1\n",
       "Evenflo Snugli Seated Military Baby Carrier              1\n",
       "\n",
       "[32417 rows x 1 columns]"
      ]
     },
     "execution_count": 22,
     "metadata": {},
     "output_type": "execute_result"
    }
   ],
   "source": [
    "data.groupby(\"name\").count().sort_values(\"review\",ascending=False)"
   ]
  },
  {
   "cell_type": "markdown",
   "metadata": {},
   "source": [
    "# --------"
   ]
  },
  {
   "cell_type": "markdown",
   "metadata": {},
   "source": [
    "### Use sklearn then to create bag  of words\n",
    "Each review will lead to a creation of a [max_features] vector holding the counts for each word of the vocabulary."
   ]
  },
  {
   "cell_type": "code",
   "execution_count": 12,
   "metadata": {
    "collapsed": true
   },
   "outputs": [],
   "source": [
    "vectorizer = CountVectorizer(analyzer = \"word\",tokenizer = None,\n",
    "                             preprocessor = None,\n",
    "                             stop_words = None,\n",
    "                             max_features = 5000)"
   ]
  },
  {
   "cell_type": "code",
   "execution_count": 13,
   "metadata": {
    "collapsed": true
   },
   "outputs": [],
   "source": [
    "words_count = vectorizer.fit_transform(reviews)"
   ]
  },
  {
   "cell_type": "markdown",
   "metadata": {},
   "source": [
    "words_count is a sparse matrix, it is more convenient to transform it to a numpy array."
   ]
  },
  {
   "cell_type": "code",
   "execution_count": 14,
   "metadata": {
    "collapsed": false
   },
   "outputs": [
    {
     "data": {
      "text/plain": [
       "(183531, 5000)"
      ]
     },
     "execution_count": 14,
     "metadata": {},
     "output_type": "execute_result"
    }
   ],
   "source": [
    "words_count = words_count.toarray()\n",
    "words_count.shape"
   ]
  },
  {
   "cell_type": "markdown",
   "metadata": {},
   "source": [
    "### Transform sklearn bag of words\n",
    "Our bag of words is created (**words\\_count** in association with the vocabulary learned by CountVectorizer instance, i.e. **vectorizer.vocabulary_**), but let's do some transformation to reproduce the course notebook (additional column with bag of words as a dictionnary for each review)."
   ]
  },
  {
   "cell_type": "code",
   "execution_count": 70,
   "metadata": {
    "collapsed": true
   },
   "outputs": [],
   "source": [
    "#def to_dict(review):\n",
    "#    dic = pd.DataFrame(vectorizer.get_feature_names(), columns = [\"vocabulary\"])\n",
    "#    dic.insert(1,\"count\",review.reshape(-1,1))\n",
    "#    dic = dic[dic[\"count\"]>0]\n",
    "#    i = iter(dic.to_dict(orient=\"split\")[\"data\"])\n",
    "#    return{k:v for k,v in i}"
   ]
  },
  {
   "cell_type": "code",
   "execution_count": 71,
   "metadata": {
    "collapsed": false
   },
   "outputs": [],
   "source": [
    "#%%time\n",
    "#bagofwords = pd.DataFrame(words_count).apply(to_dict, axis=1)"
   ]
  }
 ],
 "metadata": {
  "kernelspec": {
   "display_name": "Python 3",
   "language": "python",
   "name": "python3"
  },
  "language_info": {
   "codemirror_mode": {
    "name": "ipython",
    "version": 3
   },
   "file_extension": ".py",
   "mimetype": "text/x-python",
   "name": "python",
   "nbconvert_exporter": "python",
   "pygments_lexer": "ipython3",
   "version": "3.5.1"
  }
 },
 "nbformat": 4,
 "nbformat_minor": 0
}
