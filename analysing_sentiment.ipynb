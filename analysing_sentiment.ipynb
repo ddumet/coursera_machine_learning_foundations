{
 "cells": [
  {
   "cell_type": "markdown",
   "metadata": {},
   "source": [
    "# Predicting sentiments from product reviews\n",
    "The dataset used in this notebook can be found here [amazon_baby.csv](https://d396qusza40orc.cloudfront.net/phoenixassets/amazon_baby.csv)"
   ]
  },
  {
   "cell_type": "code",
   "execution_count": 1,
   "metadata": {
    "collapsed": true
   },
   "outputs": [],
   "source": [
    "import pandas as pd\n",
    "import numpy as np"
   ]
  },
  {
   "cell_type": "markdown",
   "metadata": {},
   "source": [
    "Import necessary package for words preprocessing (cleaning text):\n",
    "- Import re (regular expression, for removing punctuation)\n",
    "- Import nltk and download stopwords corpus (remove stopwords such as \"and\", \"the\", etc)"
   ]
  },
  {
   "cell_type": "code",
   "execution_count": 14,
   "metadata": {
    "collapsed": false
   },
   "outputs": [],
   "source": [
    "import re\n",
    "import nltk\n",
    "# nltk.download()\n",
    "from nltk.corpus import stopwords"
   ]
  },
  {
   "cell_type": "code",
   "execution_count": 3,
   "metadata": {
    "collapsed": false
   },
   "outputs": [],
   "source": [
    "from sklearn.feature_extraction.text import CountVectorizer"
   ]
  },
  {
   "cell_type": "code",
   "execution_count": 4,
   "metadata": {
    "collapsed": false
   },
   "outputs": [],
   "source": [
    "products = pd.read_csv(\"./data/amazon_baby.csv\")"
   ]
  },
  {
   "cell_type": "markdown",
   "metadata": {},
   "source": [
    "## A bit of data exploration"
   ]
  },
  {
   "cell_type": "code",
   "execution_count": 5,
   "metadata": {
    "collapsed": false
   },
   "outputs": [
    {
     "data": {
      "text/html": [
       "<div>\n",
       "<table border=\"1\" class=\"dataframe\">\n",
       "  <thead>\n",
       "    <tr style=\"text-align: right;\">\n",
       "      <th></th>\n",
       "      <th>name</th>\n",
       "      <th>review</th>\n",
       "      <th>rating</th>\n",
       "    </tr>\n",
       "  </thead>\n",
       "  <tbody>\n",
       "    <tr>\n",
       "      <th>0</th>\n",
       "      <td>Planetwise Flannel Wipes</td>\n",
       "      <td>These flannel wipes are OK, but in my opinion ...</td>\n",
       "      <td>3</td>\n",
       "    </tr>\n",
       "    <tr>\n",
       "      <th>1</th>\n",
       "      <td>Planetwise Wipe Pouch</td>\n",
       "      <td>it came early and was not disappointed. i love...</td>\n",
       "      <td>5</td>\n",
       "    </tr>\n",
       "    <tr>\n",
       "      <th>2</th>\n",
       "      <td>Annas Dream Full Quilt with 2 Shams</td>\n",
       "      <td>Very soft and comfortable and warmer than it l...</td>\n",
       "      <td>5</td>\n",
       "    </tr>\n",
       "    <tr>\n",
       "      <th>3</th>\n",
       "      <td>Stop Pacifier Sucking without tears with Thumb...</td>\n",
       "      <td>This is a product well worth the purchase.  I ...</td>\n",
       "      <td>5</td>\n",
       "    </tr>\n",
       "    <tr>\n",
       "      <th>4</th>\n",
       "      <td>Stop Pacifier Sucking without tears with Thumb...</td>\n",
       "      <td>All of my kids have cried non-stop when I trie...</td>\n",
       "      <td>5</td>\n",
       "    </tr>\n",
       "  </tbody>\n",
       "</table>\n",
       "</div>"
      ],
      "text/plain": [
       "                                                name  \\\n",
       "0                           Planetwise Flannel Wipes   \n",
       "1                              Planetwise Wipe Pouch   \n",
       "2                Annas Dream Full Quilt with 2 Shams   \n",
       "3  Stop Pacifier Sucking without tears with Thumb...   \n",
       "4  Stop Pacifier Sucking without tears with Thumb...   \n",
       "\n",
       "                                              review  rating  \n",
       "0  These flannel wipes are OK, but in my opinion ...       3  \n",
       "1  it came early and was not disappointed. i love...       5  \n",
       "2  Very soft and comfortable and warmer than it l...       5  \n",
       "3  This is a product well worth the purchase.  I ...       5  \n",
       "4  All of my kids have cried non-stop when I trie...       5  "
      ]
     },
     "execution_count": 5,
     "metadata": {},
     "output_type": "execute_result"
    }
   ],
   "source": [
    "products.head(5)"
   ]
  },
  {
   "cell_type": "code",
   "execution_count": 6,
   "metadata": {
    "collapsed": false
   },
   "outputs": [
    {
     "data": {
      "text/plain": [
       "name      183213\n",
       "review    182702\n",
       "rating    183531\n",
       "dtype: int64"
      ]
     },
     "execution_count": 6,
     "metadata": {},
     "output_type": "execute_result"
    }
   ],
   "source": [
    "products.count()"
   ]
  },
  {
   "cell_type": "code",
   "execution_count": 34,
   "metadata": {
    "collapsed": false
   },
   "outputs": [
    {
     "data": {
      "text/plain": [
       "183531"
      ]
     },
     "execution_count": 34,
     "metadata": {},
     "output_type": "execute_result"
    }
   ],
   "source": [
    "products.shape[0]"
   ]
  },
  {
   "cell_type": "markdown",
   "metadata": {},
   "source": [
    "# MUST REPLACE NaN in review by \" \" !!!"
   ]
  },
  {
   "cell_type": "markdown",
   "metadata": {},
   "source": [
    "# Test NLP ..."
   ]
  },
  {
   "cell_type": "markdown",
   "metadata": {},
   "source": [
    "### function to create bagofwords for each review\n",
    "This function:\n",
    "- Remove punctuation (using regular expression)\n",
    "- Change review to lowercase only and split text in words\n",
    "- (optionally remove stop words. This is not done in the course)"
   ]
  },
  {
   "cell_type": "code",
   "execution_count": 35,
   "metadata": {
    "collapsed": true
   },
   "outputs": [],
   "source": [
    "def clean_review(raw_review, stopswrd):\n",
    "    review = re.sub(\"[^a-zA-Z]\",\" \",raw_review)\n",
    "    review = review.lower().split()\n",
    "    #review = [w for w in review if not w in stopswrd]\n",
    "    return(\" \".join(review))"
   ]
  },
  {
   "cell_type": "code",
   "execution_count": 36,
   "metadata": {
    "collapsed": true
   },
   "outputs": [],
   "source": [
    "stopswrd = set(stopwords.words(\"english\"))"
   ]
  },
  {
   "cell_type": "code",
   "execution_count": 58,
   "metadata": {
    "collapsed": false
   },
   "outputs": [
    {
     "name": "stdout",
     "output_type": "stream",
     "text": [
      "i: 0\n",
      "text: these flannel wipes are ok but in my opinion not worth keeping i also ordered someimse vimse cloth wipes ocean blue countwhich are larger had a nicer softer texture and just seemed higher quality i use cloth wipes for hands and faces and have been usingthirsties pack fab wipes boyfor about months now and need to replace them because they are starting to get rough and have had stink issues for a while that stripping no longer handles\n",
      "i: 1\n",
      "text: it came early and was not disappointed i love planet wise bags and now my wipe holder it keps my osocozy wipes moist and does not leak highly recommend it\n",
      "i: 2\n",
      "text: very soft and comfortable and warmer than it looks fit the full size bed perfectly would recommend to anyone looking for this type of quilt\n",
      "i: 3\n",
      "text: this is a product well worth the purchase i have not found anything else like this and it is a positive ingenious approach to losing the binky what i love most about this product is how much ownership my daughter has in getting rid of the binky she is so proud of herself and loves her little fairy i love the artwork the chart in the back and the clever approach of this tool\n",
      "i: 4\n",
      "text: all of my kids have cried non stop when i tried to ween them off their pacifier until i found thumbuddy to love s binky fairy puppet it is an easy way to work with your kids to allow them to understand where their pacifier is going and help them part from it this is a must buy book and a great gift for expecting parents you will save them soo many headaches thanks for this book you all rock\n",
      "i: 5\n",
      "text: when the binky fairy came to our house we didn t have any special gift and book to help explain to her about how important it is to stop using a pacifier this book does a great job to help prepare your child for the loss of their favorite item the doll is adorable and we made lots of cute movies with the binky fairy telling our daughter about what happens when the binky fairy comes i would highly recommend this product for any parent trying to break the pacifier or thumb sucking habit\n",
      "i: 6\n",
      "text: lovely book it s bound tightly so you may not be able to add alot of photos cards aside from the designated spaces in the book shop around before you purchase as it is currently listed at barnes noble for\n",
      "i: 7\n",
      "text: perfect for new parents we were able to keep track of baby s feeding sleep and diaper change schedule for the first two and a half months of her life made life easier when the doctor would ask questions about habits because we had it all right there\n",
      "i: 8\n",
      "text: a friend of mine pinned this product on pinterest so i decided to give it a whirl it is fantastic if you are a new parent this will help you keep track of feedings diaper changes and the like\n",
      "i: 9\n",
      "text: this has been an easy way for my nanny to record all the key events that happen with my baby when i m not at home would highly recommend it to someone who wants to stay informed of what your baby is up to while you re not home the only reason this isn t a is because i think there could have been some more standarad pre printed options i plan on ordering another one when we run out of pages in this journal\n",
      "i: 10\n",
      "text: i love this journal and our nanny uses it everyday to track on our daughter s sleep eating and other activities the layout and design make it very easy to fill in quickly with a comments column to add in details i e we ask the nanny to specify what food she had for lunch amount of milk she took specifics of play time tummy time walk to park etc i love knowing the details of my baby s day and i also use it to track weekly on overall schedule patterns and changes i e baby s nap time has moved naturally as she gets older my only complaint is that there is no real space to communicate back to the nanny as i sometimes want to reply to the nanny s comments and or leave her notes about the previous night i e baby didn t sleep well or baby has rash etc or other instructions please use sun screen on the baby it s hot out today that i often forget to tell her in the rush of the morning i just stick in post its now for my notes all in all i highly recommend this baby tracker\n",
      "i: 11\n",
      "text: this book is perfect i m a first time new mom and this book made it so easy to keep track of feedings diaper changes sleep definitely would recommend this for new moms plus it s small enough that i throw in the diaper back for doctor visits\n",
      "i: 12\n",
      "text: i originally just gave the nanny a pad of paper to write down this information for my little one she would take him to the park and leave the pad behind i was getting incomplete inaccurate information when she wohld get home at the end of the day and try to remember naps feedings diaper changes i wanted something she could take with her and also a way to better control how she reported information this was the perfect solution now i m getting all the information i wanted there is a very helpful example of how to fill it out it also has a pouch for additional documents and a section up front for emergency contact info each page goes from this works for me because the nanny starts at am and ends before pm i use an app on my phone for tracking when i m with the baby i transfer the info from this notebook to my phone my only complaint the space is pretty small they provide useful shorthand but it s a little difficult to fit some of the info in the space provided also some of the other reviews complain about the time format this isn t a real problem for me but i suppose if you wanted to track an entire day you would have to use two pages not too big of a deal am pm is pretty much perfect for daycare nanny caregiver situation\n",
      "i: 13\n",
      "text: i thought keeping a simple handwritten journal would be nice but i haven t used this thing at all and here s why when you re breastfeeding it s often nice to have your phone close by so that you can keep yourself entertained if you are able to grab both your phone and this notebook and a pen consistently and at in the morning you are more skilled than me i don t nurse in the same place every time you re also often so sleep deprived that at least for me i d forget to look at what time we started on a side or what side we started on i m not perfect with the app i have either but at least i just have to mindlessly hit a button i really like the app i have baby connect it gives me better data for example it can tell me how long on average feedings have been taking helpful as we start to think about sleep training it can tell me that i nursed him times last month granted that serves no useful purpose other than a feeling of perverse satisfaction\n",
      "i: 14\n",
      "text: space for monthly photos info and a lot of useful stickers come with it it is exactly what i wanted\n",
      "i: 15\n",
      "text: i bought this calender for myself for my second son it is very colorful and has room on each page to write height weight and what baby likes to do there is also room on each page for a photo to be placed the calender date boxes have room for a sticker and some fine writing my only complaint is that it does not have as many stickers as i would like but i just put asterisks before whatever special event happened that day i bought one for a friend as she found it very useful as well\n",
      "i: 16\n",
      "text: i love this little calender you can keep track of all of baby s firsts i like the illustrations and the stickers too\n",
      "i: 17\n",
      "text: this was the only calender i could find for the second year i did one for the first and wanted to continue cause there are so many things to note still after they turn this one was better than the first year one i got him\n",
      "i: 18\n",
      "text: i completed a calendar for my son s first year and really enjoyed tracking all of his milestones and special moments so much so that i wanted to continue in the second year since he s still doing amazing and fun things every day i really like the simple layout of the calendar and while it might not have all the questions and milestone stickers you want at least it s something to keep recording all those special moments\n",
      "i: 19\n",
      "text: we wanted to get something to keep track of our child s milestones and this is a cute option there aren t many other choices out there and this does exactly what we wanted\n",
      "i: 20\n",
      "text: i had a hard time finding a second year calendar this is the only one i came across and it is great large enough to write in the squares and has a spot to put that month s picture in as well as some memories the first two years they change so much i like to jot everything down so i can keep track of all the big milestones and little ones i find it is easier to do this on a calendar vs a baby book this way you can fill out the baby book later and have a great reference to do so\n",
      "i: 21\n",
      "text: i only purchased a second year calendar for my son because i had one for my daughter i was really disappointed with the lack of selection available for second year calendars in general so i just got this one because it was one of the only ones it s an okay calendar the finish on the pages is glossy which makes it hard to write on with certain pens the stickers aren t very cute and the pages are pretty old fashioned looking hopefully they will come out with some other calendars for future purchasers\n",
      "i: 22\n",
      "text: i love this calendar for recording events of my son s second year of life there are plenty of st year baby calendars out there and i loved reocording events of his first year and didn t want to just stop now that he is one nature s lullabies second year calendar is perfect for continuing on with daily record keeping the stickers are wonderful and helped me think of milestones to record that i might not have thought of on my own i highly recommend this calendar plus it s super cute and brat for either gender\n",
      "i: 23\n",
      "text: calendar is exactly as described but i find the look of it to be very cheap there are lots of nice stickers to use i was just disappointed it looks so cheap\n",
      "i: 24\n",
      "text: wife loves this calender comes with a lot of stickers and options to mark the firsts includes spaces for milestone photos as well sticker borders for photos etc it is just a very easy to use scrap booking option especially for new moms who dont have enough time to actually sit down and haul out a ton of scrapbook supplies\n",
      "i: 25\n",
      "text: my daughter had her st baby over a year ago she did receive and fill up a first year calendar when her son was nearing his first birthday she was looking for a second year calendar to record his milestones thanks to amazon i was able to get this for her and she loves it tender sweet art work helpful stickers unique pages to fill a nice keepsake a wonderful gift for a one year old\n",
      "i: 26\n",
      "text: extremely useful as a new mom tired and inexpedient not remembering how long ago baby ate this definitely helped me through the first two months\n",
      "i: 27\n",
      "text: my son loves peek a boo at this age of months so i thought this book would be perfect this book doesn t engage him enough though it seems he does however like the cover the most if i make pretend blow kisses and peekaboo gestures with the hands and show him he also likes when i fan the hair towards his face maybe when he s older he will flip the flaps but right now he just likes the mirror at the end and the front cover if i flip the book through he just takes the book and shakes it around\n",
      "i: 28\n",
      "text: one of baby s first and favorite books and it is washable i gave less star than perfect because i d like to see some diversity in the people not just your typical white family\n",
      "i: 29\n",
      "text: i like how the book has a hook to attach it to your stroller or car seat it wont get lost great way to go over family members\n",
      "i: 30\n",
      "text: beautiful little book a great little short story saying i love you keeps the attention of the baby and then the baby can actually turn the pages and hold on to it when you are finished interacting with it\n",
      "i: 31\n",
      "text: this book is so worth the money it says months on the box but i can t wait for my baby to be born to try to use it before it s so cute and very interactive there are flaps to open on every page\n",
      "i: 32\n",
      "text: we just got this book for our one year old and she loves it it s so nice that she can t bite chunks out of it like she can a board book or rip it like a paper one she can chew on it pull on it and carry it all over the house she loves the little flaps that open and is learning simple words like daddy mommy puppy etc we love it\n",
      "i: 33\n",
      "text: the book is colorful and is perfect for months and older the only thing i didn t like was the strong smell of the dyes and or material i dunked the pages in detergent then let the book dry overnight\n",
      "i: 34\n",
      "text: the book is cute and we are huge fans of lamaze products however this one leaves out some family members no little brother and can possibly cause hurt feelings that said our baby loves to play with the hands hair and flaps\n",
      "i: 35\n",
      "text: what a great book for babies i d been looking for books which couldn t be damaged by my month old s drool so cloth or plastic books were my options this book adds another level to your usual cloth book a fun flap or moving part on every page this interactive book is perfect for my baby\n",
      "i: 36\n",
      "text: my son loved this book as an infant it was perfect because he would chew on his board books and destroy them but this one we didn t have that issue i love the lamaze series they are a lot of fun not only for the child but for the parent i liked that this book was not only teaching my son about peek a boo but we used it to learn names for family members like grandparents sister cat dog etc and of course with it being a lift the flap book that was additional fun for my son as well he s nearly two now and he doesn t look at it as much but he still does enjoy reading it and playing with it now and again i d say out of all the lamaze books this one and discovery farm are his favorites\n",
      "i: 37\n",
      "text: our baby loves this book has loved it for a while now he enjoys when i read it to him and enjoys playing with it on his own\n",
      "i: 38\n"
     ]
    },
    {
     "ename": "TypeError",
     "evalue": "expected string or bytes-like object",
     "output_type": "error",
     "traceback": [
      "\u001b[1;31m---------------------------------------------------------------------------\u001b[0m",
      "\u001b[1;31mTypeError\u001b[0m                                 Traceback (most recent call last)",
      "\u001b[1;32m<ipython-input-58-8b136ddc14af>\u001b[0m in \u001b[0;36m<module>\u001b[1;34m()\u001b[0m\n\u001b[0;32m      1\u001b[0m \u001b[1;32mfor\u001b[0m \u001b[0mi\u001b[0m \u001b[1;32min\u001b[0m \u001b[0mrange\u001b[0m\u001b[1;33m(\u001b[0m\u001b[1;36m0\u001b[0m\u001b[1;33m,\u001b[0m\u001b[0mproducts\u001b[0m\u001b[1;33m.\u001b[0m\u001b[0mshape\u001b[0m\u001b[1;33m[\u001b[0m\u001b[1;36m0\u001b[0m\u001b[1;33m]\u001b[0m\u001b[1;33m)\u001b[0m\u001b[1;33m:\u001b[0m\u001b[1;33m\u001b[0m\u001b[0m\n\u001b[0;32m      2\u001b[0m     \u001b[0mprint\u001b[0m\u001b[1;33m(\u001b[0m\u001b[1;34m\"i:\"\u001b[0m\u001b[1;33m,\u001b[0m\u001b[0mi\u001b[0m\u001b[1;33m)\u001b[0m\u001b[1;33m\u001b[0m\u001b[0m\n\u001b[1;32m----> 3\u001b[1;33m     \u001b[0mprint\u001b[0m\u001b[1;33m(\u001b[0m\u001b[1;34m\"text:\"\u001b[0m\u001b[1;33m,\u001b[0m\u001b[0mclean_review\u001b[0m\u001b[1;33m(\u001b[0m\u001b[0mproducts\u001b[0m\u001b[1;33m[\u001b[0m\u001b[1;34m\"review\"\u001b[0m\u001b[1;33m]\u001b[0m\u001b[1;33m[\u001b[0m\u001b[0mi\u001b[0m\u001b[1;33m]\u001b[0m\u001b[1;33m,\u001b[0m\u001b[0mstopswrd\u001b[0m\u001b[1;33m)\u001b[0m\u001b[1;33m)\u001b[0m\u001b[1;33m\u001b[0m\u001b[0m\n\u001b[0m\u001b[0;32m      4\u001b[0m     \u001b[0mreviews\u001b[0m\u001b[1;33m.\u001b[0m\u001b[0mappend\u001b[0m\u001b[1;33m(\u001b[0m\u001b[0mclean_review\u001b[0m\u001b[1;33m(\u001b[0m\u001b[0mproducts\u001b[0m\u001b[1;33m[\u001b[0m\u001b[1;34m\"review\"\u001b[0m\u001b[1;33m]\u001b[0m\u001b[1;33m[\u001b[0m\u001b[0mi\u001b[0m\u001b[1;33m]\u001b[0m\u001b[1;33m,\u001b[0m\u001b[0mstopswrd\u001b[0m\u001b[1;33m)\u001b[0m\u001b[1;33m)\u001b[0m\u001b[1;33m\u001b[0m\u001b[0m\n",
      "\u001b[1;32m<ipython-input-35-48e47d616438>\u001b[0m in \u001b[0;36mclean_review\u001b[1;34m(raw_review, stopswrd)\u001b[0m\n\u001b[0;32m      1\u001b[0m \u001b[1;32mdef\u001b[0m \u001b[0mclean_review\u001b[0m\u001b[1;33m(\u001b[0m\u001b[0mraw_review\u001b[0m\u001b[1;33m,\u001b[0m \u001b[0mstopswrd\u001b[0m\u001b[1;33m)\u001b[0m\u001b[1;33m:\u001b[0m\u001b[1;33m\u001b[0m\u001b[0m\n\u001b[1;32m----> 2\u001b[1;33m     \u001b[0mreview\u001b[0m \u001b[1;33m=\u001b[0m \u001b[0mre\u001b[0m\u001b[1;33m.\u001b[0m\u001b[0msub\u001b[0m\u001b[1;33m(\u001b[0m\u001b[1;34m\"[^a-zA-Z]\"\u001b[0m\u001b[1;33m,\u001b[0m\u001b[1;34m\" \"\u001b[0m\u001b[1;33m,\u001b[0m\u001b[0mraw_review\u001b[0m\u001b[1;33m)\u001b[0m\u001b[1;33m\u001b[0m\u001b[0m\n\u001b[0m\u001b[0;32m      3\u001b[0m     \u001b[0mreview\u001b[0m \u001b[1;33m=\u001b[0m \u001b[0mreview\u001b[0m\u001b[1;33m.\u001b[0m\u001b[0mlower\u001b[0m\u001b[1;33m(\u001b[0m\u001b[1;33m)\u001b[0m\u001b[1;33m.\u001b[0m\u001b[0msplit\u001b[0m\u001b[1;33m(\u001b[0m\u001b[1;33m)\u001b[0m\u001b[1;33m\u001b[0m\u001b[0m\n\u001b[0;32m      4\u001b[0m     \u001b[1;31m#review = [w for w in review if not w in stopswrd]\u001b[0m\u001b[1;33m\u001b[0m\u001b[1;33m\u001b[0m\u001b[0m\n\u001b[0;32m      5\u001b[0m     \u001b[1;32mreturn\u001b[0m\u001b[1;33m(\u001b[0m\u001b[1;34m\" \"\u001b[0m\u001b[1;33m.\u001b[0m\u001b[0mjoin\u001b[0m\u001b[1;33m(\u001b[0m\u001b[0mreview\u001b[0m\u001b[1;33m)\u001b[0m\u001b[1;33m)\u001b[0m\u001b[1;33m\u001b[0m\u001b[0m\n",
      "\u001b[1;32mC:\\Users\\Didier\\Anaconda3\\lib\\re.py\u001b[0m in \u001b[0;36msub\u001b[1;34m(pattern, repl, string, count, flags)\u001b[0m\n\u001b[0;32m    180\u001b[0m     \u001b[0ma\u001b[0m \u001b[0mcallable\u001b[0m\u001b[1;33m,\u001b[0m \u001b[0mit\u001b[0m\u001b[0;31m'\u001b[0m\u001b[0ms\u001b[0m \u001b[0mpassed\u001b[0m \u001b[0mthe\u001b[0m \u001b[0mmatch\u001b[0m \u001b[0mobject\u001b[0m \u001b[1;32mand\u001b[0m \u001b[0mmust\u001b[0m \u001b[1;32mreturn\u001b[0m\u001b[1;33m\u001b[0m\u001b[0m\n\u001b[0;32m    181\u001b[0m     a replacement string to be used.\"\"\"\n\u001b[1;32m--> 182\u001b[1;33m     \u001b[1;32mreturn\u001b[0m \u001b[0m_compile\u001b[0m\u001b[1;33m(\u001b[0m\u001b[0mpattern\u001b[0m\u001b[1;33m,\u001b[0m \u001b[0mflags\u001b[0m\u001b[1;33m)\u001b[0m\u001b[1;33m.\u001b[0m\u001b[0msub\u001b[0m\u001b[1;33m(\u001b[0m\u001b[0mrepl\u001b[0m\u001b[1;33m,\u001b[0m \u001b[0mstring\u001b[0m\u001b[1;33m,\u001b[0m \u001b[0mcount\u001b[0m\u001b[1;33m)\u001b[0m\u001b[1;33m\u001b[0m\u001b[0m\n\u001b[0m\u001b[0;32m    183\u001b[0m \u001b[1;33m\u001b[0m\u001b[0m\n\u001b[0;32m    184\u001b[0m \u001b[1;32mdef\u001b[0m \u001b[0msubn\u001b[0m\u001b[1;33m(\u001b[0m\u001b[0mpattern\u001b[0m\u001b[1;33m,\u001b[0m \u001b[0mrepl\u001b[0m\u001b[1;33m,\u001b[0m \u001b[0mstring\u001b[0m\u001b[1;33m,\u001b[0m \u001b[0mcount\u001b[0m\u001b[1;33m=\u001b[0m\u001b[1;36m0\u001b[0m\u001b[1;33m,\u001b[0m \u001b[0mflags\u001b[0m\u001b[1;33m=\u001b[0m\u001b[1;36m0\u001b[0m\u001b[1;33m)\u001b[0m\u001b[1;33m:\u001b[0m\u001b[1;33m\u001b[0m\u001b[0m\n",
      "\u001b[1;31mTypeError\u001b[0m: expected string or bytes-like object"
     ]
    }
   ],
   "source": [
    "for i in range(0,products.shape[0]):\n",
    "    print(\"i:\",i)\n",
    "    print(\"text:\",clean_review(products[\"review\"][i],stopswrd))\n",
    "    reviews.append(clean_review(products[\"review\"][i],stopswrd))"
   ]
  },
  {
   "cell_type": "code",
   "execution_count": 45,
   "metadata": {
    "collapsed": false
   },
   "outputs": [],
   "source": [
    "reviews.append(clean_review(products[\"review\"][2],stopswrd))"
   ]
  },
  {
   "cell_type": "code",
   "execution_count": 54,
   "metadata": {
    "collapsed": false
   },
   "outputs": [],
   "source": [
    "reviews = []\n",
    "num_reviews = products.shape[0]"
   ]
  },
  {
   "cell_type": "code",
   "execution_count": 59,
   "metadata": {
    "collapsed": false
   },
   "outputs": [
    {
     "ename": "TypeError",
     "evalue": "expected string or bytes-like object",
     "output_type": "error",
     "traceback": [
      "\u001b[1;31m---------------------------------------------------------------------------\u001b[0m",
      "\u001b[1;31mTypeError\u001b[0m                                 Traceback (most recent call last)",
      "\u001b[1;32m<ipython-input-59-76f43fa79976>\u001b[0m in \u001b[0;36m<module>\u001b[1;34m()\u001b[0m\n\u001b[0;32m      1\u001b[0m \u001b[1;32mfor\u001b[0m \u001b[0mi\u001b[0m \u001b[1;32min\u001b[0m \u001b[0mrange\u001b[0m\u001b[1;33m(\u001b[0m\u001b[1;36m35\u001b[0m\u001b[1;33m,\u001b[0m\u001b[1;36m40\u001b[0m\u001b[1;33m)\u001b[0m\u001b[1;33m:\u001b[0m\u001b[1;33m\u001b[0m\u001b[0m\n\u001b[1;32m----> 2\u001b[1;33m     \u001b[0mreviews\u001b[0m\u001b[1;33m.\u001b[0m\u001b[0mappend\u001b[0m\u001b[1;33m(\u001b[0m\u001b[0mclean_review\u001b[0m\u001b[1;33m(\u001b[0m\u001b[0mproducts\u001b[0m\u001b[1;33m[\u001b[0m\u001b[1;34m\"review\"\u001b[0m\u001b[1;33m]\u001b[0m\u001b[1;33m[\u001b[0m\u001b[0mi\u001b[0m\u001b[1;33m]\u001b[0m\u001b[1;33m,\u001b[0m\u001b[0mstopswrd\u001b[0m\u001b[1;33m)\u001b[0m\u001b[1;33m)\u001b[0m\u001b[1;33m\u001b[0m\u001b[0m\n\u001b[0m",
      "\u001b[1;32m<ipython-input-35-48e47d616438>\u001b[0m in \u001b[0;36mclean_review\u001b[1;34m(raw_review, stopswrd)\u001b[0m\n\u001b[0;32m      1\u001b[0m \u001b[1;32mdef\u001b[0m \u001b[0mclean_review\u001b[0m\u001b[1;33m(\u001b[0m\u001b[0mraw_review\u001b[0m\u001b[1;33m,\u001b[0m \u001b[0mstopswrd\u001b[0m\u001b[1;33m)\u001b[0m\u001b[1;33m:\u001b[0m\u001b[1;33m\u001b[0m\u001b[0m\n\u001b[1;32m----> 2\u001b[1;33m     \u001b[0mreview\u001b[0m \u001b[1;33m=\u001b[0m \u001b[0mre\u001b[0m\u001b[1;33m.\u001b[0m\u001b[0msub\u001b[0m\u001b[1;33m(\u001b[0m\u001b[1;34m\"[^a-zA-Z]\"\u001b[0m\u001b[1;33m,\u001b[0m\u001b[1;34m\" \"\u001b[0m\u001b[1;33m,\u001b[0m\u001b[0mraw_review\u001b[0m\u001b[1;33m)\u001b[0m\u001b[1;33m\u001b[0m\u001b[0m\n\u001b[0m\u001b[0;32m      3\u001b[0m     \u001b[0mreview\u001b[0m \u001b[1;33m=\u001b[0m \u001b[0mreview\u001b[0m\u001b[1;33m.\u001b[0m\u001b[0mlower\u001b[0m\u001b[1;33m(\u001b[0m\u001b[1;33m)\u001b[0m\u001b[1;33m.\u001b[0m\u001b[0msplit\u001b[0m\u001b[1;33m(\u001b[0m\u001b[1;33m)\u001b[0m\u001b[1;33m\u001b[0m\u001b[0m\n\u001b[0;32m      4\u001b[0m     \u001b[1;31m#review = [w for w in review if not w in stopswrd]\u001b[0m\u001b[1;33m\u001b[0m\u001b[1;33m\u001b[0m\u001b[0m\n\u001b[0;32m      5\u001b[0m     \u001b[1;32mreturn\u001b[0m\u001b[1;33m(\u001b[0m\u001b[1;34m\" \"\u001b[0m\u001b[1;33m.\u001b[0m\u001b[0mjoin\u001b[0m\u001b[1;33m(\u001b[0m\u001b[0mreview\u001b[0m\u001b[1;33m)\u001b[0m\u001b[1;33m)\u001b[0m\u001b[1;33m\u001b[0m\u001b[0m\n",
      "\u001b[1;32mC:\\Users\\Didier\\Anaconda3\\lib\\re.py\u001b[0m in \u001b[0;36msub\u001b[1;34m(pattern, repl, string, count, flags)\u001b[0m\n\u001b[0;32m    180\u001b[0m     \u001b[0ma\u001b[0m \u001b[0mcallable\u001b[0m\u001b[1;33m,\u001b[0m \u001b[0mit\u001b[0m\u001b[0;31m'\u001b[0m\u001b[0ms\u001b[0m \u001b[0mpassed\u001b[0m \u001b[0mthe\u001b[0m \u001b[0mmatch\u001b[0m \u001b[0mobject\u001b[0m \u001b[1;32mand\u001b[0m \u001b[0mmust\u001b[0m \u001b[1;32mreturn\u001b[0m\u001b[1;33m\u001b[0m\u001b[0m\n\u001b[0;32m    181\u001b[0m     a replacement string to be used.\"\"\"\n\u001b[1;32m--> 182\u001b[1;33m     \u001b[1;32mreturn\u001b[0m \u001b[0m_compile\u001b[0m\u001b[1;33m(\u001b[0m\u001b[0mpattern\u001b[0m\u001b[1;33m,\u001b[0m \u001b[0mflags\u001b[0m\u001b[1;33m)\u001b[0m\u001b[1;33m.\u001b[0m\u001b[0msub\u001b[0m\u001b[1;33m(\u001b[0m\u001b[0mrepl\u001b[0m\u001b[1;33m,\u001b[0m \u001b[0mstring\u001b[0m\u001b[1;33m,\u001b[0m \u001b[0mcount\u001b[0m\u001b[1;33m)\u001b[0m\u001b[1;33m\u001b[0m\u001b[0m\n\u001b[0m\u001b[0;32m    183\u001b[0m \u001b[1;33m\u001b[0m\u001b[0m\n\u001b[0;32m    184\u001b[0m \u001b[1;32mdef\u001b[0m \u001b[0msubn\u001b[0m\u001b[1;33m(\u001b[0m\u001b[0mpattern\u001b[0m\u001b[1;33m,\u001b[0m \u001b[0mrepl\u001b[0m\u001b[1;33m,\u001b[0m \u001b[0mstring\u001b[0m\u001b[1;33m,\u001b[0m \u001b[0mcount\u001b[0m\u001b[1;33m=\u001b[0m\u001b[1;36m0\u001b[0m\u001b[1;33m,\u001b[0m \u001b[0mflags\u001b[0m\u001b[1;33m=\u001b[0m\u001b[1;36m0\u001b[0m\u001b[1;33m)\u001b[0m\u001b[1;33m:\u001b[0m\u001b[1;33m\u001b[0m\u001b[0m\n",
      "\u001b[1;31mTypeError\u001b[0m: expected string or bytes-like object"
     ]
    }
   ],
   "source": [
    "for i in range(35,40):\n",
    "    reviews.append(clean_review(products[\"review\"][i],stopswrd))"
   ]
  },
  {
   "cell_type": "code",
   "execution_count": null,
   "metadata": {
    "collapsed": true
   },
   "outputs": [],
   "source": []
  },
  {
   "cell_type": "code",
   "execution_count": 60,
   "metadata": {
    "collapsed": false
   },
   "outputs": [
    {
     "data": {
      "text/plain": [
       "nan"
      ]
     },
     "execution_count": 60,
     "metadata": {},
     "output_type": "execute_result"
    }
   ],
   "source": [
    "products[\"review\"][38]"
   ]
  },
  {
   "cell_type": "code",
   "execution_count": 8,
   "metadata": {
    "collapsed": false
   },
   "outputs": [],
   "source": [
    "rev_nopunc = re.sub(\"[^a-zA-Z]\",\n",
    "                      \" \",\n",
    "                      products[\"review\"][0])"
   ]
  },
  {
   "cell_type": "code",
   "execution_count": 9,
   "metadata": {
    "collapsed": false
   },
   "outputs": [
    {
     "data": {
      "text/plain": [
       "'These flannel wipes are OK  but in my opinion not worth keeping   I also ordered someImse Vimse Cloth Wipes Ocean Blue    countwhich are larger  had a nicer  softer texture and just seemed higher quality   I use cloth wipes for hands and faces and have been usingThirsties   Pack Fab Wipes  Boyfor about   months now and need to replace them because they are starting to get rough and have had stink issues for a while that stripping no longer handles '"
      ]
     },
     "execution_count": 9,
     "metadata": {},
     "output_type": "execute_result"
    }
   ],
   "source": [
    "rev_nopunc"
   ]
  },
  {
   "cell_type": "code",
   "execution_count": 17,
   "metadata": {
    "collapsed": false
   },
   "outputs": [],
   "source": [
    "rev_nopunc = rev_nopunc.lower().split()"
   ]
  },
  {
   "cell_type": "code",
   "execution_count": 23,
   "metadata": {
    "collapsed": false
   },
   "outputs": [],
   "source": [
    "stopswrd = set(stopwords.words(\"english\"))"
   ]
  },
  {
   "cell_type": "code",
   "execution_count": 24,
   "metadata": {
    "collapsed": false
   },
   "outputs": [],
   "source": [
    "bow = [w for w in rev_nopunc if not w in stopswrd]"
   ]
  },
  {
   "cell_type": "code",
   "execution_count": 25,
   "metadata": {
    "collapsed": false
   },
   "outputs": [
    {
     "name": "stdout",
     "output_type": "stream",
     "text": [
      "['flannel', 'wipes', 'ok', 'opinion', 'worth', 'keeping', 'also', 'ordered', 'someimse', 'vimse', 'cloth', 'wipes', 'ocean', 'blue', 'countwhich', 'larger', 'nicer', 'softer', 'texture', 'seemed', 'higher', 'quality', 'use', 'cloth', 'wipes', 'hands', 'faces', 'usingthirsties', 'pack', 'fab', 'wipes', 'boyfor', 'months', 'need', 'replace', 'starting', 'get', 'rough', 'stink', 'issues', 'stripping', 'longer', 'handles']\n"
     ]
    }
   ],
   "source": [
    "print(bow)"
   ]
  },
  {
   "cell_type": "code",
   "execution_count": 22,
   "metadata": {
    "collapsed": false
   },
   "outputs": [
    {
     "data": {
      "text/plain": [
       "'flannel wipes ok opinion worth keeping also ordered someimse vimse cloth wipes ocean blue countwhich larger nicer softer texture seemed higher quality use cloth wipes hands faces usingthirsties pack fab wipes boyfor months need replace starting get rough stink issues stripping longer handles'"
      ]
     },
     "execution_count": 22,
     "metadata": {},
     "output_type": "execute_result"
    }
   ],
   "source": [
    "\" \".join(bow)"
   ]
  },
  {
   "cell_type": "code",
   "execution_count": 29,
   "metadata": {
    "collapsed": false
   },
   "outputs": [
    {
     "data": {
      "text/plain": [
       "'these flannel wipes are ok but in my opinion not worth keeping i also ordered someimse vimse cloth wipes ocean blue countwhich are larger had a nicer softer texture and just seemed higher quality i use cloth wipes for hands and faces and have been usingthirsties pack fab wipes boyfor about months now and need to replace them because they are starting to get rough and have had stink issues for a while that stripping no longer handles'"
      ]
     },
     "execution_count": 29,
     "metadata": {},
     "output_type": "execute_result"
    }
   ],
   "source": [
    "create_bagofwords(products[\"review\"][0],stopswrd)"
   ]
  },
  {
   "cell_type": "code",
   "execution_count": null,
   "metadata": {
    "collapsed": true
   },
   "outputs": [],
   "source": []
  }
 ],
 "metadata": {
  "kernelspec": {
   "display_name": "Python 3",
   "language": "python",
   "name": "python3"
  },
  "language_info": {
   "codemirror_mode": {
    "name": "ipython",
    "version": 3
   },
   "file_extension": ".py",
   "mimetype": "text/x-python",
   "name": "python",
   "nbconvert_exporter": "python",
   "pygments_lexer": "ipython3",
   "version": "3.5.1"
  }
 },
 "nbformat": 4,
 "nbformat_minor": 0
}
